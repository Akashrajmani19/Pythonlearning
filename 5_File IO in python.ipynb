{
 "cells": [
  {
   "cell_type": "markdown",
   "id": "c6ab110a-2dfb-4dc8-948f-1f6c7d9dc03c",
   "metadata": {},
   "source": [
    "## File IO in python"
   ]
  },
  {
   "cell_type": "markdown",
   "id": "e4740423-612f-464b-8649-d1b044617c16",
   "metadata": {},
   "source": [
    "File Input/Output in python allow us to read and write to files."
   ]
  },
  {
   "cell_type": "markdown",
   "id": "6aa8cbc8-558f-4e73-baa1-4bbe9fd94ad7",
   "metadata": {},
   "source": [
    "To opn a file, you can use the built-in open() function. It takes tworguments: The name/path of the file and the mode and syntax is like : open(\"example.txt\",'mode'):\n",
    "The mode in  which we wna to open the file. The mode can be 'r' for reading, 'w' for writing(creates a new file or overwrites the existing one), 'a' for appending (adds content to an existing file), or 'x' for exclusive creation (creates a new file but raises an error if it already exist).  "
   ]
  },
  {
   "cell_type": "code",
   "execution_count": 43,
   "id": "d9b0f432-25f0-4b4e-af12-6cb1cd9f028f",
   "metadata": {},
   "outputs": [],
   "source": [
    "file=open('example.txt','r') # Default mode is read 'r':"
   ]
  },
  {
   "cell_type": "markdown",
   "id": "7d8a4080-a61d-4b8b-9f92-b060f3ace4a3",
   "metadata": {},
   "source": [
    "### modes in file:\n",
    "#### read(r) and readlines()\n",
    "To read from a file, we can use the file object's read() or readline() method. read() reads the entire contents of the files, while readline() reads one line at a time and if we want to read multiple lines, we can use a loop."
   ]
  },
  {
   "cell_type": "code",
   "execution_count": 44,
   "id": "732ac15d-6bdc-420f-803e-72e8ed481a4d",
   "metadata": {},
   "outputs": [
    {
     "name": "stdout",
     "output_type": "stream",
     "text": [
      "my name is akash vaishnav.\n",
      "i am learning python\n",
      "This we append in in this existing file without overwriting\n"
     ]
    }
   ],
   "source": [
    "content=file.read()\n",
    "print(content)\n",
    "file.close()"
   ]
  },
  {
   "cell_type": "code",
   "execution_count": 45,
   "id": "586bc5e9-472a-4a50-9e55-73b1d8496350",
   "metadata": {},
   "outputs": [
    {
     "name": "stdout",
     "output_type": "stream",
     "text": [
      "['my name is akash vaishnav.\\n', 'i am learning python\\n', 'This we append in in this existing file without overwriting']\n"
     ]
    }
   ],
   "source": [
    "file=open(\"example.txt\",'r')\n",
    "while True:\n",
    "    line=file.readlines()\n",
    "    if not line:\n",
    "        break\n",
    "    print(line)"
   ]
  },
  {
   "cell_type": "markdown",
   "id": "6cbc3e40-8257-4173-a3f1-a3390f5602ad",
   "metadata": {},
   "source": [
    "#### Write() and writelines() \n",
    "The write() and writelines() methods are used to writing data t a file, but they iffer in terms of theinput they accept and how they handle new lines.\n",
    "The write() method is used to write a single string to a file. it takes a string argument and writes it to the file."
   ]
  },
  {
   "cell_type": "code",
   "execution_count": 33,
   "id": "5c13ae72-a112-453e-ad28-808b46d22bed",
   "metadata": {},
   "outputs": [
    {
     "name": "stdout",
     "output_type": "stream",
     "text": [
      "Hello, Akash Vaishnav.\n"
     ]
    }
   ],
   "source": [
    "file=open(\"example.txt\",'w')\n",
    "file.write(\"Hello, Akash Vaishnav.\")\n",
    "file.close()\n",
    "file=open(\"example.txt\",'r')\n",
    "content=file.read()\n",
    "print(content)\n",
    "file.close()"
   ]
  },
  {
   "cell_type": "markdown",
   "id": "a150ce90-9217-4c01-af10-09c49fb3c545",
   "metadata": {},
   "source": [
    "writelines() method on the otherhand is used to write multiple strings to a file. It takes an iterable(such as a list or tuple) of strings as its arguments. Each string in the iterable is written to file as a separate line. It does not automatically append newlines at the end of each string."
   ]
  },
  {
   "cell_type": "code",
   "execution_count": 39,
   "id": "136faaca-e266-4baa-81dc-c58ec5a00409",
   "metadata": {},
   "outputs": [],
   "source": [
    "file=open('example.txt','w')\n",
    "file.writelines([\"my name is akash vaishnav.\",'\\n',\"i am learning python\",'\\n'])\n",
    "file.close()\n"
   ]
  },
  {
   "cell_type": "code",
   "execution_count": 40,
   "id": "79b46ee0-ca45-44ad-9236-ddee2b4195d8",
   "metadata": {},
   "outputs": [
    {
     "name": "stdout",
     "output_type": "stream",
     "text": [
      "my name is akash vaishnav.\n",
      "i am learning python\n",
      "\n"
     ]
    }
   ],
   "source": [
    "file=open(\"example.txt\",'r')\n",
    "content=file.read()\n",
    "print(content)\n",
    "file.close()"
   ]
  },
  {
   "cell_type": "markdown",
   "id": "56ab0d61-e9d3-4684-8838-cffbf2c79fdd",
   "metadata": {},
   "source": [
    "#### append('a') mode:\n",
    "we can use the \"a\" mode to append content to an existing file. When we open a file in append mode, any data we write will be added to the end of the file, without overwriting the existing contents.\n"
   ]
  },
  {
   "cell_type": "code",
   "execution_count": 41,
   "id": "046a99ee-b7e2-4b30-bb0a-6f67f9897099",
   "metadata": {},
   "outputs": [
    {
     "name": "stdout",
     "output_type": "stream",
     "text": [
      "my name is akash vaishnav.\n",
      "i am learning python\n",
      "This we append in in this existing file without overwriting\n"
     ]
    }
   ],
   "source": [
    "file=open(\"example.txt\",'a')\n",
    "file.write(\"This we append in in this existing file without overwriting\")\n",
    "file.close()\n",
    "file=open(\"example.txt\",'r')\n",
    "content=file.read()\n",
    "print(content)\n",
    "file.close()"
   ]
  },
  {
   "cell_type": "markdown",
   "id": "e6f49025-2dbe-4a51-8f11-b0b716eb30eb",
   "metadata": {},
   "source": [
    "#### create('x') mode :\n",
    "the create('x') mode is used for creating a new file. When we open a file in create mode, it allows us to write data to a new file, but it raise an error if the file already exists."
   ]
  },
  {
   "cell_type": "code",
   "execution_count": 37,
   "id": "b2d9a5f6-7262-4994-85e9-1cacbb98bd89",
   "metadata": {},
   "outputs": [
    {
     "name": "stdout",
     "output_type": "stream",
     "text": [
      "This is new created file with create mode.\n"
     ]
    }
   ],
   "source": [
    "file=open(\"new_file\",'x')\n",
    "file.write(\"This is new created file with create mode.\")\n",
    "file.close()\n",
    "file=open(\"new_file\",)\n",
    "content=file.read()\n",
    "print(content)\n",
    "file.close()"
   ]
  },
  {
   "cell_type": "markdown",
   "id": "44fe0d74-adb8-47ec-8277-7eb08c2176ed",
   "metadata": {},
   "source": [
    "#### text('t') mode :\n",
    "Apart from these modes we also need to specify how the file must be hnadled. t mode is used to handle text file. t refers to the text mode. There is no diffrence between r and rt or w and wt since text mode is the default."
   ]
  },
  {
   "cell_type": "markdown",
   "id": "ae7196ef-7b79-4634-9ce0-7d4f529c8c51",
   "metadata": {},
   "source": [
    "#### binary('b') mode :\n",
    "The binary mode('b') is used when working with binary files. Binary mode allows us to read from and write to files containing non-textual data,such as images, audio files, or any other file that dosen't consist of plain text.\n",
    "<p><span style=\"color: #ff0000;\"> To open a file in binary mode, we can include the 'b' charatcer as part of the mode argument in the open() function. The mode argument can be 'rb' for reading in binary mode, 'wb' for writing in binary mode, or 'ab' fpr appending in binary mode."
   ]
  },
  {
   "cell_type": "markdown",
   "id": "e7f19430-ff14-4aa5-b303-73273e196571",
   "metadata": {},
   "source": [
    "#### Closing a file It is important to close a file after all opeartion on file. This release resources used by the file and follow ohter programs to access it.\n",
    "File.close() is the syntax to close the file."
   ]
  },
  {
   "cell_type": "markdown",
   "id": "c7da1d4d-a245-483e-8833-6596c8556a8a",
   "metadata": {},
   "source": [
    "#### The 'with' statement:\n",
    "Alternatively, we can use the with statement to automatically close the file after we have complete all operation on file.\n"
   ]
  },
  {
   "cell_type": "code",
   "execution_count": 38,
   "id": "17092d84-9aaf-43de-a509-2e4c6594a0ac",
   "metadata": {},
   "outputs": [
    {
     "name": "stdout",
     "output_type": "stream",
     "text": [
      "This is new created file with create mode.\n"
     ]
    }
   ],
   "source": [
    "with open(\"example.txt\",'r') as file:\n",
    "    contenet=file.read()\n",
    "    print(content)"
   ]
  },
  {
   "cell_type": "markdown",
   "id": "9ce32d57-3e08-4e97-93cb-5aa4723bf8f5",
   "metadata": {},
   "source": [
    "### seek() and tell() function:\n",
    "In python, the seek() and tell() functions are used to work with the file object and their positions within a file. These functions are part of built in IO module, Which provides a consistent interface for reading and writing to various file like objects, such as files, pipes and in-memory buffers.\n",
    "#### seek() function :\n",
    "The seek() function allow you to move the current position within  file to a specific point. The position is spicified in bytes, and you can move either forword or backword from the current position.\n",
    "\n"
   ]
  },
  {
   "cell_type": "code",
   "execution_count": 50,
   "id": "309ffbb8-58db-4190-b2ad-610fd151e150",
   "metadata": {},
   "outputs": [
    {
     "name": "stdout",
     "output_type": "stream",
     "text": [
      "my name is akash vaishnav.\n",
      "i am learning python\n",
      "This we append in in this existing file without overwriting\n",
      "----------------------------------\n",
      "akash\n"
     ]
    }
   ],
   "source": [
    "with open(\"example.txt\") as file:\n",
    "    content=file.read()\n",
    "    print(content)\n",
    "print(\"----------------------------------\")\n",
    "with open(\"example.txt\",'r') as file:\n",
    "    file.seek(11) # It is leaving  11 position in line\n",
    "    data=file.read(5) # reading initial 5 position \n",
    "    print(data)\n"
   ]
  },
  {
   "cell_type": "markdown",
   "id": "1abb5528-eb81-42f3-b2a8-ef05bf1d7849",
   "metadata": {},
   "source": [
    "#### tell() function :\n",
    "The tell() function returns the current position within the file, in bytes. This can be useful for keeping track of your location within the file or for seeking to a specific position relative to the current position."
   ]
  },
  {
   "cell_type": "code",
   "execution_count": 52,
   "id": "071c94e5-2249-43bd-baf5-2c90ef618000",
   "metadata": {},
   "outputs": [
    {
     "name": "stdout",
     "output_type": "stream",
     "text": [
      "16\n"
     ]
    }
   ],
   "source": [
    "with open(\"example.txt\",'r') as file:\n",
    "    file.seek(11) # seeking initial 11 positions\n",
    "    data=file.read(5) # reading 12 to 16 position\n",
    "    current_position=file.tell() # telling current position in case of this example now it is 16nth position\n",
    "    print(current_position)"
   ]
  },
  {
   "cell_type": "markdown",
   "id": "ff4dec7c-0e27-461e-8ccd-3748915c5522",
   "metadata": {},
   "source": [
    "#### truncate() function:\n",
    "When we open a file in python using the open function, we can specify the mode in which we want to open the file. If we specify the mode as 'w' oe 'a', the file is opened in write mode and we can write to the file . However, if we want to truncate the file to a specific size, we can use the truncate function"
   ]
  },
  {
   "cell_type": "code",
   "execution_count": 56,
   "id": "7f5522db-ab7a-4cf3-ac24-e28e24595567",
   "metadata": {},
   "outputs": [
    {
     "name": "stdout",
     "output_type": "stream",
     "text": [
      "Hello\n"
     ]
    }
   ],
   "source": [
    "with open(\"example.txt\",'w') as file:\n",
    "    file.write(\"Hello, Akash\") \n",
    "    file.truncate(5) # Truncate after initial 5 position. \n",
    "with open(\"example.txt\",'r') as file:\n",
    "    data=file.read()\n",
    "    print(data)"
   ]
  }
 ],
 "metadata": {
  "kernelspec": {
   "display_name": "Python 3 (ipykernel)",
   "language": "python",
   "name": "python3"
  },
  "language_info": {
   "codemirror_mode": {
    "name": "ipython",
    "version": 3
   },
   "file_extension": ".py",
   "mimetype": "text/x-python",
   "name": "python",
   "nbconvert_exporter": "python",
   "pygments_lexer": "ipython3",
   "version": "3.10.6"
  }
 },
 "nbformat": 4,
 "nbformat_minor": 5
}
