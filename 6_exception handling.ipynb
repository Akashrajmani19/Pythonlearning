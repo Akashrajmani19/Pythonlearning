{
 "cells": [
  {
   "cell_type": "markdown",
   "id": "9e7ab06f-4860-4cda-afd3-2182afd12848",
   "metadata": {},
   "source": [
    "# Exception Handling\n",
    "Exception handling in python allow us to handle and manage errors that occur during programme execution. It helps prevent our programme from crashing and provides a way to gracefully handle unexpected situations. This allows the progrmme to continue running(or terminate gracefully) even if an error occurs.  "
   ]
  },
  {
   "cell_type": "markdown",
   "id": "08c117ee-ab2e-40fc-9e61-999724e00aca",
   "metadata": {},
   "source": [
    "### Try-Except Block:- EXception handling is implemented using try-except block. The code that may raise an excecution is placed inside the try block, and the corresponding exception handling code is placed inside the except block.\n",
    "The except block specifies the type of exception we want to catch. If an exception of that type(or its subclass) is raised in the try block, the code inside the except block will excecuted and from here we can catch some specific type of exceptions. Some most common type of exceptions are:\n",
    "<p><code>ZeroDivisionError</code> : It's occurs when in any airthmatic operation result is coming undefined or modulo in operation become 0. Like we have operation a/b and b become zero then we face this kind exception.</p>\n",
    "<p><code>TypeError</code> : Raised when an operation or function is applied to an object of inappropriate type like we are trying to add int with string directly or we are using int type where we need to use float type ariables.</p>\n",
    "<p><code>ValueError</code> : Raised when a built-in operation or function recives an argument that has the right type but an inappropriate value.</p>\n",
    "<p><code>IndexError</code> : Raised when a sequence subscript is out of range.</p>\n",
    "<p><code>KeyError</code> : Raised when a dictionary key is not found.</p>\n",
    "<p><code>FileNotFoundError</code> : Raised when a file or directry is requested but dosen't exist or dosen't exist at given address.</p>\n",
    "<p><code>IOError</code> : Riased when an I/O operation (such as a print statement, the buit-in open() function or a method of file object) fails for I/O- related reason.   </p>\n",
    "<p><code>ImportError</code> : Raised when a import statement fails to find the module defination or hen a <code>from .... import</code> fails to find ba name that is to be impoerted.</p>\n",
    "<p><code>MemoryError</code> : Raised when an operation runs out of memory.</p>\n",
    "<p><code>OverFlowError</code> : Raised when the result of an arithmetic operations is too large to be expressed by the normal number format.</p>\n",
    "<p><code>AttributeError</code> : Raised when an attribute reference or assignment falls.</p>\n",
    "<p><code>SyntaxError</code> : Raised when the parser encounter a syntax error.</p>\n",
    "<p><code>IndentationError</code> : Raised when there is incorrect indentation.</p>"
   ]
  },
  {
   "cell_type": "markdown",
   "id": "08065f1e-6dbe-4c6e-82c3-91bfa5fb12f3",
   "metadata": {},
   "source": [
    "Try .... except blocks are used in python to handle errors and exception. The code in try block runs when there is no error. If the try block catches the error, then the except block is measured."
   ]
  },
  {
   "cell_type": "code",
   "execution_count": 1,
   "id": "d4bcad9b-8c7b-48b9-b37b-628f190a1f3f",
   "metadata": {},
   "outputs": [
    {
     "name": "stdout",
     "output_type": "stream",
     "text": [
      "Please define variable first then print it.\n"
     ]
    }
   ],
   "source": [
    "try:\n",
    "    print(x)\n",
    "except NameError:\n",
    "    print(\"Please define variable first then print it.\")"
   ]
  },
  {
   "cell_type": "markdown",
   "id": "774f0ec2-0ae7-4e98-a450-ff54e82c3fff",
   "metadata": {},
   "source": [
    "#### else clause:\n",
    "else is excecuted when try block succesfully run and it's not catch any error."
   ]
  },
  {
   "cell_type": "code",
   "execution_count": 2,
   "id": "07c6e53e-1472-4c7b-a3c5-b9048e9605cb",
   "metadata": {},
   "outputs": [
    {
     "name": "stdout",
     "output_type": "stream",
     "text": [
      "Checking else block.\n",
      "Now else is wroking means try block not catch any error.\n"
     ]
    }
   ],
   "source": [
    "try:\n",
    "    print(\"Checking else block.\")\n",
    "except :\n",
    "    print(\"else block is not working when try block catches any error and in this condition except block get excecuted.\")\n",
    "else:\n",
    "    print(\"Now else is wroking means try block not catch any error.\")"
   ]
  },
  {
   "cell_type": "markdown",
   "id": "3cf00f28-079c-4836-8cb2-7e8c08f2d407",
   "metadata": {},
   "source": [
    "#### finally clause :\n",
    "The finally code block is also a part of exception handling. when we handle exception using the try and except block, we can conclude a finally block at the end . The finally block is always excecuted, so it is generally used for doing the concluding tasks like closing file resources or closing datbase connection or may be ending the program excecution with the delighful message.  "
   ]
  },
  {
   "cell_type": "code",
   "execution_count": 3,
   "id": "d4d7ccaf-0285-4e6e-99c3-7e255f08aeb1",
   "metadata": {},
   "outputs": [
    {
     "name": "stdout",
     "output_type": "stream",
     "text": [
      "Please define variable first then print it.\n",
      "finally is wroking when exception is there.\n"
     ]
    }
   ],
   "source": [
    "try:\n",
    "    print(x)\n",
    "except NameError:\n",
    "    print(\"Please define variable first then print it.\")\n",
    "finally:\n",
    "    print(\"finally is wroking when exception is there.\")"
   ]
  },
  {
   "cell_type": "code",
   "execution_count": 4,
   "id": "f5f8dc90-0209-4b89-8820-438d4fee860c",
   "metadata": {},
   "outputs": [
    {
     "name": "stdout",
     "output_type": "stream",
     "text": [
      "Checking else block.\n",
      "Now else is wroking means try block not catch any error.\n",
      "finally excecuted also when try block is not get any exception.\n"
     ]
    }
   ],
   "source": [
    "try:\n",
    "    print(\"Checking else block.\")\n",
    "except :\n",
    "    print(\"else block is not working when try block catches any error and in this condition except block get excecuted.\")\n",
    "else:\n",
    "    print(\"Now else is wroking means try block not catch any error.\")\n",
    "finally:\n",
    "    print(\"finally excecuted also when try block is not get any exception.\")"
   ]
  },
  {
   "cell_type": "markdown",
   "id": "9286fb8c-1a45-44cb-9eaf-02f25d0d2115",
   "metadata": {},
   "source": [
    "### Raisng custom error:\n",
    "#### raise() keyword :In python, we can raise custom errors by using the raise keyword."
   ]
  },
  {
   "cell_type": "code",
   "execution_count": 6,
   "id": "be34e645-266c-4df2-a368-88fa81a211c7",
   "metadata": {},
   "outputs": [
    {
     "name": "stdin",
     "output_type": "stream",
     "text": [
      "Give any number :  2\n"
     ]
    },
    {
     "ename": "Exception",
     "evalue": "Value should be between 5 and 10",
     "output_type": "error",
     "traceback": [
      "\u001b[0;31m---------------------------------------------------------------------------\u001b[0m",
      "\u001b[0;31mException\u001b[0m                                 Traceback (most recent call last)",
      "Cell \u001b[0;32mIn [6], line 3\u001b[0m\n\u001b[1;32m      1\u001b[0m a\u001b[38;5;241m=\u001b[39m\u001b[38;5;28mint\u001b[39m(\u001b[38;5;28minput\u001b[39m(\u001b[38;5;124m\"\u001b[39m\u001b[38;5;124mGive any number : \u001b[39m\u001b[38;5;124m\"\u001b[39m))\n\u001b[1;32m      2\u001b[0m \u001b[38;5;28;01mif\u001b[39;00m a\u001b[38;5;241m<\u001b[39m\u001b[38;5;241m5\u001b[39m \u001b[38;5;129;01mor\u001b[39;00m a\u001b[38;5;241m>\u001b[39m\u001b[38;5;241m10\u001b[39m:\n\u001b[0;32m----> 3\u001b[0m     \u001b[38;5;28;01mraise\u001b[39;00m \u001b[38;5;167;01mException\u001b[39;00m(\u001b[38;5;124m\"\u001b[39m\u001b[38;5;124mValue should be between 5 and 10\u001b[39m\u001b[38;5;124m\"\u001b[39m)\n",
      "\u001b[0;31mException\u001b[0m: Value should be between 5 and 10"
     ]
    }
   ],
   "source": [
    "a=int(input(\"Give any number : \"))\n",
    "if a<5 or a>10:\n",
    "    raise Exception(\"Value should be between 5 and 10\")\n",
    "    "
   ]
  },
  {
   "cell_type": "markdown",
   "id": "a14b493a-e5e8-468f-b397-8e7862809c87",
   "metadata": {},
   "source": [
    "#### Zero Division Error"
   ]
  },
  {
   "cell_type": "code",
   "execution_count": 16,
   "id": "b3a5b801-7108-4240-b56c-ab870d045aaf",
   "metadata": {},
   "outputs": [
    {
     "name": "stdin",
     "output_type": "stream",
     "text": [
      "Num-1 : 6\n",
      "Num-2 : 0\n"
     ]
    },
    {
     "name": "stdout",
     "output_type": "stream",
     "text": [
      "\u001b[31mZeroDivisionError: Denominator can't be zero in any operation.\u001b[0m\n"
     ]
    }
   ],
   "source": [
    "a=int(input(\"Num-1 :\"))\n",
    "b=int(input(\"Num-2 :\"))\n",
    "try:\n",
    "    c=a/b\n",
    "    print(c)\n",
    "except ZeroDivisionError:\n",
    "    print(\"\\033[31mZeroDivisionError: Denominator can't be zero in any operation.\\033[0m\")    "
   ]
  },
  {
   "cell_type": "markdown",
   "id": "209f7afc-57f6-4550-8d80-01a372dc42ff",
   "metadata": {},
   "source": [
    "in the above, \\033[31m is the ANSI excape sequence for setting the text color to red. The text that follow will be printed in red. To reset the text color back to deault, \\033[0m iss used."
   ]
  },
  {
   "cell_type": "markdown",
   "id": "47af836a-f467-4faf-a915-e79fbd703691",
   "metadata": {},
   "source": [
    "<p>Red : \\033[31m</p>\n",
    "<p>Green : \\033[32m</p>\n",
    "<p>Yellow : \\033[33m</p>\n",
    "<p>Blue : \\033[34m</p>\n",
    "<p>Magenta : \\033[35m</p>\n",
    "<p>Cyan : \\033[36m</p>"
   ]
  },
  {
   "cell_type": "markdown",
   "id": "bfc68127-4d83-44ab-92b0-96be2e902e9b",
   "metadata": {},
   "source": [
    "#### Multiple exception :"
   ]
  },
  {
   "cell_type": "code",
   "execution_count": 17,
   "id": "aa55923f-1d34-4182-a8aa-7a3f14fad10b",
   "metadata": {},
   "outputs": [
    {
     "name": "stdout",
     "output_type": "stream",
     "text": [
      "\u001b[31mNmaeError : Variable is not defined\n"
     ]
    }
   ],
   "source": [
    "try:\n",
    "    with open(exmample.txt,'r') as file:\n",
    "        content3=file.read()\n",
    "        print(content)\n",
    "except FileNotFoundError:\n",
    "    print(\"\\033[31mFileNotFoundError : File is not availlable at given path.\")\n",
    "except NameError:\n",
    "    print(\"\\033[31mNmaeError : Variable is not defined\")\n",
    "        "
   ]
  },
  {
   "cell_type": "markdown",
   "id": "9f582ab9-6def-4e07-8030-c67d3e5a0212",
   "metadata": {},
   "source": [
    "#### User defined Exceptions:\n",
    "In python, We can define our own custom exceptions by creating new classes that inherit from the buit-in exception class or any of its subclasses. USer-defined exceptions allow us to create specific types of error that are relevent to our application or module.\n",
    "1. Define a custom Exception Class : To create a custom exception, define a new class that inherits from Exception or any of its subclasses. We can provide additional attributes or methods to customize the behaviour of our Exception."
   ]
  },
  {
   "cell_type": "code",
   "execution_count": 22,
   "id": "005ade08-2859-4882-ae8e-ad2097a08862",
   "metadata": {},
   "outputs": [],
   "source": [
    "class MyCustomError(Exception): #Where exception is a pre-defined class and we inheriting all methods and attributes means MyCustomError is derived from built-in Exception class.\n",
    "    pass"
   ]
  },
  {
   "cell_type": "code",
   "execution_count": 25,
   "id": "02937045-aa7a-401e-96a7-c8e4e741c125",
   "metadata": {},
   "outputs": [
    {
     "ename": "MyCustomError",
     "evalue": "Used Defined Exception.",
     "output_type": "error",
     "traceback": [
      "\u001b[0;31m---------------------------------------------------------------------------\u001b[0m",
      "\u001b[0;31mMyCustomError\u001b[0m                             Traceback (most recent call last)",
      "Cell \u001b[0;32mIn [25], line 1\u001b[0m\n\u001b[0;32m----> 1\u001b[0m \u001b[38;5;28;01mraise\u001b[39;00m MyCustomError(\u001b[38;5;124m\"\u001b[39m\u001b[38;5;124mUsed Defined Exception.\u001b[39m\u001b[38;5;124m\"\u001b[39m)\n",
      "\u001b[0;31mMyCustomError\u001b[0m: Used Defined Exception."
     ]
    }
   ],
   "source": [
    "raise MyCustomError(\"Used Defined Exception.\")"
   ]
  },
  {
   "cell_type": "code",
   "execution_count": 1,
   "id": "27008591-3ced-4c55-97e6-0719c817017e",
   "metadata": {},
   "outputs": [],
   "source": [
    "class WrongAge(Exception):\n",
    "    pass"
   ]
  },
  {
   "cell_type": "code",
   "execution_count": 4,
   "id": "412e42b7-5265-4417-a521-af4fedfdcf76",
   "metadata": {},
   "outputs": [
    {
     "name": "stdin",
     "output_type": "stream",
     "text": [
      "What is your AGE : 12\n"
     ]
    },
    {
     "name": "stdout",
     "output_type": "stream",
     "text": [
      "\u001b[31mYou are not eligible for give your vote.\n"
     ]
    }
   ],
   "source": [
    "age=18 # Age for be eligible to give vote\n",
    "try:\n",
    "    age_input=int(input(\"What is your AGE :\"))\n",
    "    if age_input<age:\n",
    "        raise WrongAge # Calling our custom error\n",
    "    else:\n",
    "        print(\"Congratulations, You are eligible to give your vote.\")\n",
    "except WrongAge:\n",
    "    print(\"\\033[31mYou are not eligible for give your vote.\")"
   ]
  },
  {
   "cell_type": "code",
   "execution_count": null,
   "id": "79c117e5-119b-48d2-b34d-36811d1687cd",
   "metadata": {},
   "outputs": [],
   "source": []
  }
 ],
 "metadata": {
  "kernelspec": {
   "display_name": "Python 3 (ipykernel)",
   "language": "python",
   "name": "python3"
  },
  "language_info": {
   "codemirror_mode": {
    "name": "ipython",
    "version": 3
   },
   "file_extension": ".py",
   "mimetype": "text/x-python",
   "name": "python",
   "nbconvert_exporter": "python",
   "pygments_lexer": "ipython3",
   "version": "3.10.6"
  }
 },
 "nbformat": 4,
 "nbformat_minor": 5
}
