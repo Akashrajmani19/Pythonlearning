{
 "cells": [
  {
   "cell_type": "markdown",
   "id": "3ce40cd8-f780-4fcb-8fbd-b685723164ff",
   "metadata": {},
   "source": [
    "### OS Module \n",
    "The os module in python provides functions for interacting with the operating system.\n",
    "<p><span style=\"color: #ff0000;\"> Note : The folder where the python script is running is known as the current dirctry. This is not the path where the script s located.\n"
   ]
  },
  {
   "cell_type": "code",
   "execution_count": 2,
   "id": "8db35bea-f60d-49c0-9dc6-06bd04aa3f99",
   "metadata": {},
   "outputs": [],
   "source": [
    "import os"
   ]
  },
  {
   "cell_type": "markdown",
   "id": "565e4729-84a1-49e8-af85-c08c85493263",
   "metadata": {},
   "source": [
    "os module has many keywords for different purpose and they are:"
   ]
  },
  {
   "cell_type": "markdown",
   "id": "a6031f2f-e2a6-43bf-a959-43f4ed8148bf",
   "metadata": {},
   "source": [
    "#### os.getcwd()\n",
    "To get the location of the current working directry."
   ]
  },
  {
   "cell_type": "code",
   "execution_count": 4,
   "id": "50801c9b-de8a-478c-b628-a0c2a00a4a6a",
   "metadata": {},
   "outputs": [
    {
     "name": "stdout",
     "output_type": "stream",
     "text": [
      "/home/jovyan/work\n"
     ]
    }
   ],
   "source": [
    "print(os.getcwd())"
   ]
  },
  {
   "cell_type": "markdown",
   "id": "8e4059a6-3732-4c7b-8929-25f409487b0d",
   "metadata": {},
   "source": [
    "#### os.chdir()\n",
    "to chnage the current working directory(cwd) os.chdir() method is used. This method changes the CWD to a specified ppath.it only takes a single aregument as a new directory path --> arg - as path or new directory.\n",
    "<p><span style=\"color: #ff0000;\">Note : The current working directory is the folder in which the python script os operating.\n"
   ]
  },
  {
   "cell_type": "code",
   "execution_count": null,
   "id": "d899389a-46ce-4729-9f4e-dc543728414a",
   "metadata": {},
   "outputs": [],
   "source": [
    "os.chdir(\"new path\")"
   ]
  },
  {
   "cell_type": "markdown",
   "id": "b572b6bc-ac28-4163-90e9-e956682d18a8",
   "metadata": {},
   "source": [
    "#### os.path.join(\"parent directory\",\"directory name\")\n",
    "os.path.join() is used to connect any directory with its parent dirctory."
   ]
  },
  {
   "cell_type": "code",
   "execution_count": 5,
   "id": "7efbfcb9-e6de-4a17-a8c5-6be03ded413e",
   "metadata": {},
   "outputs": [
    {
     "name": "stdout",
     "output_type": "stream",
     "text": [
      "/home/jovyan/work/system.txt\n"
     ]
    }
   ],
   "source": [
    "new_path=\"system.txt\"\n",
    "parent_path = \"/home/jovyan/work\"\n",
    "new_dir= os.path.join(parent_path,new_path)\n",
    "print(new_dir)"
   ]
  },
  {
   "cell_type": "markdown",
   "id": "9ffd9c3b-627e-4911-a56b-169a3622a900",
   "metadata": {},
   "source": [
    "### Creating a dirctory (folder for worspace)\n"
   ]
  },
  {
   "cell_type": "markdown",
   "id": "d6ae3010-a0d8-491f-9a06-e5211a79fc87",
   "metadata": {},
   "source": [
    "#### os.mkdir()\n",
    "method in python is used to create a directory named path with the specified numeric mode This method raises fileExists error of the directory to be created already exists."
   ]
  },
  {
   "cell_type": "code",
   "execution_count": 7,
   "id": "c58715bb-1b09-4c2f-8ffb-f2923473068a",
   "metadata": {},
   "outputs": [],
   "source": [
    "os.mkdir(\"system.txt\")"
   ]
  },
  {
   "cell_type": "markdown",
   "id": "c06fc346-b162-4ad1-b415-393596219521",
   "metadata": {},
   "source": [
    "#### os.makedirs() \n",
    "Method in python is used to create a directory recursive That means while making leaf directroy if any intermediate-level directory is missing, os.makedirs() method will create them all.  "
   ]
  },
  {
   "cell_type": "code",
   "execution_count": 11,
   "id": "37f0e50c-40c3-4f17-912a-a6aeea89419c",
   "metadata": {},
   "outputs": [],
   "source": [
    "os.makedirs(\"system1.txt\")"
   ]
  },
  {
   "cell_type": "markdown",
   "id": "36a5b127-09d1-4cf1-a008-6e8b9bd65556",
   "metadata": {},
   "source": [
    "### Listing out files and dirctories with python:-"
   ]
  },
  {
   "cell_type": "markdown",
   "id": "865a4ae6-ef96-4c71-99ab-0ec547f67a89",
   "metadata": {},
   "source": [
    "#### os.listd()\n",
    "method in python is used to get the list of all files and diretions in the specified directory. If we don't specify any directory, then the list of files and directories in the current working directorry will be returend."
   ]
  },
  {
   "cell_type": "code",
   "execution_count": 12,
   "id": "57de341e-35c4-437e-b2a1-c94f65ca32a9",
   "metadata": {},
   "outputs": [
    {
     "data": {
      "text/plain": [
       "['README.md',\n",
       " 'system1.txt',\n",
       " 'sample-code.ipynb',\n",
       " '2_lambda_function.ipynb',\n",
       " '.git',\n",
       " '1_python basics.ipynb',\n",
       " '4_OS Module in python.ipynb',\n",
       " '3_recursion.ipynb',\n",
       " '.ipynb_checkpoints']"
      ]
     },
     "execution_count": 12,
     "metadata": {},
     "output_type": "execute_result"
    }
   ],
   "source": [
    "os.listdir()"
   ]
  },
  {
   "cell_type": "markdown",
   "id": "44bc9b6b-909a-4dda-b5e1-b759497ab4b0",
   "metadata": {},
   "source": [
    "### Deleting directory or files using the python:\n",
    "#### os.remove()\n",
    "method in python is used to remove or delete a file path. This method can not remove or delete a directory if the specified path is a directory and the os error will be aised by ht method."
   ]
  },
  {
   "cell_type": "code",
   "execution_count": 15,
   "id": "5df79157-04da-42cb-9c00-64b66dd0be74",
   "metadata": {},
   "outputs": [],
   "source": [
    "os.remove('sample-code.ipynb')"
   ]
  },
  {
   "cell_type": "markdown",
   "id": "6843e203-07f9-4743-8d61-1cf38dd06748",
   "metadata": {},
   "source": [
    "#### os.rmdir()\n",
    "method in python is used to remove or delete an empty directory. oserror will be raised if the specified path is not an empty directory."
   ]
  },
  {
   "cell_type": "code",
   "execution_count": 16,
   "id": "9c4bc807-ef1f-436b-843b-fea351285eff",
   "metadata": {},
   "outputs": [],
   "source": [
    "os.rmdir(\"system1.txt\")"
   ]
  },
  {
   "cell_type": "code",
   "execution_count": null,
   "id": "9b4cf573-2b0a-4976-901a-6009d280cdc6",
   "metadata": {},
   "outputs": [],
   "source": []
  }
 ],
 "metadata": {
  "kernelspec": {
   "display_name": "Python 3 (ipykernel)",
   "language": "python",
   "name": "python3"
  },
  "language_info": {
   "codemirror_mode": {
    "name": "ipython",
    "version": 3
   },
   "file_extension": ".py",
   "mimetype": "text/x-python",
   "name": "python",
   "nbconvert_exporter": "python",
   "pygments_lexer": "ipython3",
   "version": "3.10.6"
  }
 },
 "nbformat": 4,
 "nbformat_minor": 5
}
