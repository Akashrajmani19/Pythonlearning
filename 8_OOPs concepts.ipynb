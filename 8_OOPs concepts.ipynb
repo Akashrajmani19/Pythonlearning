{
 "cells": [
  {
   "cell_type": "markdown",
   "id": "c01174ee-0e6c-4eab-ad5f-5d84734ad66b",
   "metadata": {},
   "source": [
    "# Object Oriented Programming:"
   ]
  },
  {
   "cell_type": "markdown",
   "id": "c355ce10-ce71-4859-b6ce-ad4a79fc010c",
   "metadata": {},
   "source": [
    "<p>In Programming language, mainy there are two approches that are used to write program or code.</p>\n",
    "<p> 1. Procedual programming</p>\n",
    "<p> 2. Object oriented programming</p>\n"
   ]
  },
  {
   "cell_type": "markdown",
   "id": "50fa6ba1-8966-4948-a13a-aa3d9438b831",
   "metadata": {},
   "source": [
    "1. We use OOP to use classes and objects to repersent real-world concepts and entities.\n",
    "2. Class - A class is a blueprint or template for creating objects. It defines the properties and methods that an object of that class will have properties are the data or state of an object, and methods are the actions or behaviours that an object can perform.\n",
    "3. Object - An object is an instance of class, and it contains its own data and methods. For example, we could create a class called \"person\" that has properties such as name and age, and method such as speak() and walk(). Each instance of the person class would be a unique object with its own name and age, but they would all have the same methods to speak and walk.\n",
    "4. Encapsulations - One of the key feature of OOP in python is encapsulation, which means that the internal state of an object is hidden and can only be accessed or modified through the object's methods. This helps to protect the project's data and prevent if from being modified in unexpected ways.\n",
    "5. Inheritance : Another key feature of oop in python is inheritance, which allows new classes to created that inherit the properties amd methods of an existing class. This allows for code reuse and makes it easy to create new class that have simillar functionality to existing classes.\n",
    "6. Polymorhism : Polymorhism is also supported in python, which means that object's of a common class. This allows for greater flexibility in code and makes it easier to write code that can work with multiple types of objects.\n",
    "\n",
    "In summary, OOP in python allows developers to model real world concepts and entities usig classes and objects, encapsulation od data, reusability of code through inhertance, and write more flexible code through polymorphisum."
   ]
  },
  {
   "cell_type": "code",
   "execution_count": 77,
   "id": "c3ce7eca-b376-4c8c-91d6-cf639dc437d9",
   "metadata": {},
   "outputs": [],
   "source": [
    "# Defined class with its name using class keyword and syntax for this: class class_name:\n",
    "class details:\n",
    "    \"\"\"def __init__(self,variable1,variable2,...) : __init__ is constructer for class and it automatically\n",
    "    called when an object of that class is created and this allows us to iitiallize the attributes(variale)\n",
    "    of th object.\n",
    "    self parameter : The self parameter is a reference to the current instance of the class, and is used to \n",
    "    access variable that belongs to the class. It must be provided as the extra parameter inside the metrhod.\n",
    "    def __str__(self) : __str__ is a method that provide a string repersentation ofa object. It is called by \n",
    "    the built-in() function or when object is used in a context where a string is expected,such as print().\n",
    "    \"\"\"\n",
    "    def __init__(self,f_name,l_name):\n",
    "        \"\"\"This is parameterized constructor.\"\"\"\n",
    "        self.f_name=f_name # This is the attribute of this perticullaer class and it is a parameterize constructer.\n",
    "        self.l_name=l_name # This is the attribute of this perticullaer class and it is a parameterize constructer.\n",
    "    def __str__(self): # Here self is used as default constructer\n",
    "        \"\"\"This is Default constructor.\"\"\"\n",
    "        return f\"User's complete name is {self.f_name} {self.l_name}.\"\n",
    "#print(details.__doc__)"
   ]
  },
  {
   "cell_type": "code",
   "execution_count": 78,
   "id": "319748e2-741c-4289-922e-841c80278466",
   "metadata": {},
   "outputs": [
    {
     "name": "stdout",
     "output_type": "stream",
     "text": [
      "User's complete name is AKash Vaishnav.\n"
     ]
    }
   ],
   "source": [
    "User1=details(\"AKash\",\"Vaishnav\")\n",
    "print(User1)"
   ]
  },
  {
   "cell_type": "markdown",
   "id": "e0dd9ac0-674f-467d-965b-1b1fb65887ef",
   "metadata": {},
   "source": [
    "### Constructors:\n",
    "<p>A constructor is a pecvial method in a class usedto create and initialize an object of a class. There are diffrent types of constructors and constructor is involed automatically when an object of class is created.</p>\n",
    "<p>A constructor is a unique function that get called automatically when an object is created of class. Then purpose of a constructor is to initialize or assign  value to the data members of that class. It an not return any value other the none.</p>\n",
    "\n",
    "#### Types of constructor :\n",
    "1. Parameterized Constructor : When the constructor accepts argument along with self, it is known as parameterized constructor. These argument can be used inside the class o assign the values to the data members.\n",
    "2. Default Constructor : When constructor dosen'taccept any argument from the object and has one argument self in the constructor, it is known as default constructor.\n",
    "\n"
   ]
  },
  {
   "cell_type": "code",
   "execution_count": 79,
   "id": "a3c21ba7-9ee2-4310-a217-0ba4e238034b",
   "metadata": {},
   "outputs": [
    {
     "data": {
      "text/plain": [
       "['__class__',\n",
       " '__delattr__',\n",
       " '__dict__',\n",
       " '__dir__',\n",
       " '__doc__',\n",
       " '__eq__',\n",
       " '__format__',\n",
       " '__ge__',\n",
       " '__getattribute__',\n",
       " '__gt__',\n",
       " '__hash__',\n",
       " '__init__',\n",
       " '__init_subclass__',\n",
       " '__le__',\n",
       " '__lt__',\n",
       " '__module__',\n",
       " '__ne__',\n",
       " '__new__',\n",
       " '__reduce__',\n",
       " '__reduce_ex__',\n",
       " '__repr__',\n",
       " '__setattr__',\n",
       " '__sizeof__',\n",
       " '__str__',\n",
       " '__subclasshook__',\n",
       " '__weakref__']"
      ]
     },
     "execution_count": 79,
     "metadata": {},
     "output_type": "execute_result"
    }
   ],
   "source": [
    "dir(details)"
   ]
  },
  {
   "cell_type": "markdown",
   "id": "552e5946-5d19-467b-8d84-c794d48e97d4",
   "metadata": {},
   "source": [
    "### Example : Bank account handling class"
   ]
  },
  {
   "cell_type": "code",
   "execution_count": 80,
   "id": "6ba2de4c-fe3e-4a7e-9137-17af5179dff1",
   "metadata": {},
   "outputs": [],
   "source": [
    "class Bank_Account_class:\n",
    "    \"\"\"\"\"\"\n",
    "    def __init__(self,Account_holder,Account_Number,Balance=0):\n",
    "        self.Account_holder=Account_holder\n",
    "        self.Account_Number=Account_Number\n",
    "        self.Balance=Balance\n",
    "    def Deposit(self,amount):\n",
    "        self.Balance +=amount\n",
    "        return f\"You have Deposited {amount}$ and your current Balance is {self.Balance}$\"\n",
    "    def Withdraw(self,amount):\n",
    "        if self.Balance>=amount:\n",
    "            self.Balance -=amount\n",
    "            return f\"You have Withdraw {amount}$ and your current Balance is {self.Balance}$\"\n",
    "        else:\n",
    "            return \"Your Balance is not sufficint to withdra this amount\"\n",
    "        \n",
    "    def __str__(self):\n",
    "        return f\"Bank Account number {self.Account_Number} name is {self.Account_holder} and bank Balance is {self.Balance}$\""
   ]
  },
  {
   "cell_type": "code",
   "execution_count": 81,
   "id": "56bbda1e-772a-4f2c-b045-9128f8a382e6",
   "metadata": {},
   "outputs": [],
   "source": [
    "person1=Bank_Account_class(\"Akash Vaishnav\",\"SBI12345\",0)"
   ]
  },
  {
   "cell_type": "code",
   "execution_count": 82,
   "id": "7f4e318d-5871-4090-a6db-6f2fc52d96f3",
   "metadata": {},
   "outputs": [
    {
     "name": "stdout",
     "output_type": "stream",
     "text": [
      "0\n"
     ]
    }
   ],
   "source": [
    "print(person1.Balance)"
   ]
  },
  {
   "cell_type": "code",
   "execution_count": 83,
   "id": "045ffa17-2bc6-4b35-9aa5-276de694b753",
   "metadata": {},
   "outputs": [
    {
     "data": {
      "text/plain": [
       "'You have Deposited 1000$ and your current Balance is 1000$'"
      ]
     },
     "execution_count": 83,
     "metadata": {},
     "output_type": "execute_result"
    }
   ],
   "source": [
    "person1.Deposit(1000)"
   ]
  },
  {
   "cell_type": "code",
   "execution_count": 84,
   "id": "c7acca42-5b86-4160-8283-157219798232",
   "metadata": {},
   "outputs": [
    {
     "data": {
      "text/plain": [
       "'You have Withdraw 500$ and your current Balance is 500$'"
      ]
     },
     "execution_count": 84,
     "metadata": {},
     "output_type": "execute_result"
    }
   ],
   "source": [
    "person1.Withdraw(500)"
   ]
  },
  {
   "cell_type": "code",
   "execution_count": 85,
   "id": "c6705f12-7ccf-4d9d-aecc-dc9167c1fd0f",
   "metadata": {},
   "outputs": [
    {
     "name": "stdout",
     "output_type": "stream",
     "text": [
      "Bank Account number SBI12345 name is Akash Vaishnav and bank Balance is 500$\n"
     ]
    }
   ],
   "source": [
    "print(person1)"
   ]
  },
  {
   "cell_type": "code",
   "execution_count": 86,
   "id": "49e2b317-4141-4ef5-8bfb-79d9111b3774",
   "metadata": {},
   "outputs": [
    {
     "data": {
      "text/plain": [
       "'Your Balance is not sufficint to withdra this amount'"
      ]
     },
     "execution_count": 86,
     "metadata": {},
     "output_type": "execute_result"
    }
   ],
   "source": [
    "person1.Withdraw(600)"
   ]
  },
  {
   "cell_type": "code",
   "execution_count": 87,
   "id": "061bd1e3-15cd-4221-b75f-477e2559dc09",
   "metadata": {},
   "outputs": [
    {
     "data": {
      "text/plain": [
       "['Account_Number',\n",
       " 'Account_holder',\n",
       " 'Balance',\n",
       " 'Deposit',\n",
       " 'Withdraw',\n",
       " '__class__',\n",
       " '__delattr__',\n",
       " '__dict__',\n",
       " '__dir__',\n",
       " '__doc__',\n",
       " '__eq__',\n",
       " '__format__',\n",
       " '__ge__',\n",
       " '__getattribute__',\n",
       " '__gt__',\n",
       " '__hash__',\n",
       " '__init__',\n",
       " '__init_subclass__',\n",
       " '__le__',\n",
       " '__lt__',\n",
       " '__module__',\n",
       " '__ne__',\n",
       " '__new__',\n",
       " '__reduce__',\n",
       " '__reduce_ex__',\n",
       " '__repr__',\n",
       " '__setattr__',\n",
       " '__sizeof__',\n",
       " '__str__',\n",
       " '__subclasshook__',\n",
       " '__weakref__']"
      ]
     },
     "execution_count": 87,
     "metadata": {},
     "output_type": "execute_result"
    }
   ],
   "source": [
    "dir(person1)"
   ]
  },
  {
   "cell_type": "markdown",
   "id": "e70233bd-396f-4d3d-bb54-134490df6287",
   "metadata": {},
   "source": [
    "### Example to make ToDoList"
   ]
  },
  {
   "cell_type": "code",
   "execution_count": 88,
   "id": "feca54ba-457f-4181-b972-ec1b0c08fb2f",
   "metadata": {},
   "outputs": [],
   "source": [
    "class ToDoList:\n",
    "    def __init__(self,Owner,TaskList=[]):\n",
    "        self.TaskList=TaskList\n",
    "        self.Owner=Owner\n",
    "    def AddTask(self,Task):\n",
    "        self.TaskList.append(Task)\n",
    "        return f\"{Task} is added to Your ToDoList and your complete ToDoList is {self.TaskList}\"\n",
    "    def CompleteTask(self,Task):\n",
    "        if Task in self.TaskList:\n",
    "            (self.TaskList).remove(Task)\n",
    "            return f\"{Task} is completed and removed from you ToDoList.\"\n",
    "        else:\n",
    "            return f\"This Task is not in your ToDoList.\"\n",
    "    def __str__(self):\n",
    "        return f\"{self.TaskList} Task's are still to be completed By {self.Owner}.\"\n",
    "        "
   ]
  },
  {
   "cell_type": "code",
   "execution_count": 89,
   "id": "b20b3d38-e968-47da-b55b-19946ddda2a7",
   "metadata": {},
   "outputs": [],
   "source": [
    "person2=ToDoList(\"Akash\",[\"Sleep\",\"Workout\",\"Walk\",\"Chatting\"])"
   ]
  },
  {
   "cell_type": "code",
   "execution_count": 90,
   "id": "b8b1cc14-6dd5-4836-8985-f51f0555aece",
   "metadata": {},
   "outputs": [
    {
     "name": "stdout",
     "output_type": "stream",
     "text": [
      "['Sleep', 'Workout', 'Walk', 'Chatting'] Task's are still to be completed By Akash.\n"
     ]
    }
   ],
   "source": [
    "print(person2)"
   ]
  },
  {
   "cell_type": "code",
   "execution_count": 91,
   "id": "b2263dfd-eed3-437e-8416-796aeaeed000",
   "metadata": {},
   "outputs": [
    {
     "data": {
      "text/plain": [
       "\"Dance is added to Your ToDoList and your complete ToDoList is ['Sleep', 'Workout', 'Walk', 'Chatting', 'Dance']\""
      ]
     },
     "execution_count": 91,
     "metadata": {},
     "output_type": "execute_result"
    }
   ],
   "source": [
    "person2.AddTask(\"Dance\")"
   ]
  },
  {
   "cell_type": "code",
   "execution_count": 92,
   "id": "dc0d12ca-a87a-4028-80f0-f492d24b8923",
   "metadata": {},
   "outputs": [
    {
     "data": {
      "text/plain": [
       "'This Task is not in your ToDoList.'"
      ]
     },
     "execution_count": 92,
     "metadata": {},
     "output_type": "execute_result"
    }
   ],
   "source": [
    "person2.CompleteTask(\"Singing\")"
   ]
  },
  {
   "cell_type": "code",
   "execution_count": 93,
   "id": "89b89899-a091-449d-bff7-d2ab552a4b06",
   "metadata": {},
   "outputs": [
    {
     "data": {
      "text/plain": [
       "'Dance is completed and removed from you ToDoList.'"
      ]
     },
     "execution_count": 93,
     "metadata": {},
     "output_type": "execute_result"
    }
   ],
   "source": [
    "person2.CompleteTask(\"Dance\")"
   ]
  },
  {
   "cell_type": "code",
   "execution_count": 94,
   "id": "72fc6331-aa4e-459d-8db9-364bc2c68c0c",
   "metadata": {},
   "outputs": [
    {
     "data": {
      "text/plain": [
       "['AddTask',\n",
       " 'CompleteTask',\n",
       " 'Owner',\n",
       " 'TaskList',\n",
       " '__class__',\n",
       " '__delattr__',\n",
       " '__dict__',\n",
       " '__dir__',\n",
       " '__doc__',\n",
       " '__eq__',\n",
       " '__format__',\n",
       " '__ge__',\n",
       " '__getattribute__',\n",
       " '__gt__',\n",
       " '__hash__',\n",
       " '__init__',\n",
       " '__init_subclass__',\n",
       " '__le__',\n",
       " '__lt__',\n",
       " '__module__',\n",
       " '__ne__',\n",
       " '__new__',\n",
       " '__reduce__',\n",
       " '__reduce_ex__',\n",
       " '__repr__',\n",
       " '__setattr__',\n",
       " '__sizeof__',\n",
       " '__str__',\n",
       " '__subclasshook__',\n",
       " '__weakref__']"
      ]
     },
     "execution_count": 94,
     "metadata": {},
     "output_type": "execute_result"
    }
   ],
   "source": [
    "dir(person2)"
   ]
  },
  {
   "cell_type": "markdown",
   "id": "51f0ef5e-057d-44b9-a7e5-bb9726ff5cd8",
   "metadata": {},
   "source": [
    "### Inheritance :\n",
    "<p>When a class derives from another class. The child class will inherit all the public and protected properties and methods  from the parent class. In addition, it can have its own properties and methods, this is called inheritance.</p>\n",
    "<p>Types of inheritance:</p>\n",
    "\n",
    "<p>2. Multiple inheritance</p>\n",
    "<p>3. Multilevel inheritance</p>\n",
    "<p>4. Hierarchical inheritance</p>\n",
    "<p>5. Hybrid inheritance</p>"
   ]
  },
  {
   "cell_type": "markdown",
   "id": "538407c4-4bc3-4356-8a14-a0ccfcc41d9b",
   "metadata": {},
   "source": [
    "### 1 . Single inheritance :\n",
    "Single inheritance involves a class inheriting from a single class."
   ]
  },
  {
   "cell_type": "code",
   "execution_count": 95,
   "id": "7232d363-e317-497b-b003-7f5557948372",
   "metadata": {},
   "outputs": [],
   "source": [
    "class parent:\n",
    "    def __init__(self,name):\n",
    "        self.name=name\n",
    "\n",
    "class child(parent):\n",
    "    def __init__(self,name,occupation):\n",
    "        super().__init__(name)\n",
    "        self.occupation=occupation\n",
    "    def __str__(self):\n",
    "        return f\"name is {self.name} and occupation is {self.occupation}.\"\n"
   ]
  },
  {
   "cell_type": "code",
   "execution_count": 96,
   "id": "ce526db5-55d4-4826-96bc-b4140eb8a3e3",
   "metadata": {},
   "outputs": [
    {
     "name": "stdout",
     "output_type": "stream",
     "text": [
      "name is Akash and occupation is Researcher.\n"
     ]
    }
   ],
   "source": [
    "person1=child(\"Akash\",\"Researcher\")\n",
    "print(person1)"
   ]
  },
  {
   "cell_type": "code",
   "execution_count": 97,
   "id": "dbd79976-54f9-4a67-a397-2dfcd161b620",
   "metadata": {},
   "outputs": [],
   "source": [
    "class Vehicle:\n",
    "    def __init__(self,Brand,Model):\n",
    "        self.Brand=Brand\n",
    "        self.Model=Model\n",
    "    def Start(self):\n",
    "        print(f\"We a vehicle of Brand {self.Brand} of model {self.Model}\")\n",
    "# Type = What is the type like  IT is engine based vehicle or non engine\n",
    "# Run = Run by human efforts or we nned fuel for it\n",
    "class Bicycle(Vehicle):\n",
    "    def __init__(self,Brand,Model,Type):\n",
    "        super().__init__(Brand,Model)\n",
    "        self.Type=Type\n",
    "    def Run(self,Method):\n",
    "        super().Start()\n",
    "        print(f\"And Type is {self.Type} and Method for run it is {Method}\")\n",
    "class Car(Vehicle):\n",
    "    def __init__(self,Brand,Model,Type):\n",
    "        super().__init__(Brand,Model)\n",
    "        self.Type=Type\n",
    "    def Run(self,Method):\n",
    "        super().Start()\n",
    "        return f\"And Type is {self.Type} and Method for run it is {Method}\""
   ]
  },
  {
   "cell_type": "code",
   "execution_count": 98,
   "id": "c47687eb-a421-4d8d-9ff5-87f5739e5241",
   "metadata": {},
   "outputs": [],
   "source": [
    "Vehicle1=Car(\"Maruti\",\"800\",\"Engine\")"
   ]
  },
  {
   "cell_type": "code",
   "execution_count": 99,
   "id": "7860cfc3-897c-4989-9222-138ee3da1b37",
   "metadata": {},
   "outputs": [
    {
     "name": "stdout",
     "output_type": "stream",
     "text": [
      "We a vehicle of Brand Maruti of model 800\n",
      "None\n"
     ]
    }
   ],
   "source": [
    "print(Vehicle1.Start())"
   ]
  },
  {
   "cell_type": "code",
   "execution_count": 100,
   "id": "712b4a3f-ee8f-4a39-a303-3bb7f7947a67",
   "metadata": {},
   "outputs": [],
   "source": [
    "class Animal:\n",
    "    def __init__(self,name):\n",
    "        self.name=name\n",
    "    def make_sound(self):\n",
    "        return (\"This is dirct from parent class\")\n",
    "class Cat(Animal):\n",
    "    def make_sound(self):\n",
    "        return (f\"This {self.name} is dancing.\")\n",
    "class Dog(Animal):\n",
    "    def make_sound(self):\n",
    "        return (f\"This Dog is a {self.name} Ghost. \")"
   ]
  },
  {
   "cell_type": "code",
   "execution_count": 101,
   "id": "ac9cda2a-b88a-414a-b9ea-11aaaf23bdfe",
   "metadata": {},
   "outputs": [],
   "source": [
    "animal=Cat(\"Bagad Billota\")"
   ]
  },
  {
   "cell_type": "code",
   "execution_count": 102,
   "id": "4e0f1667-ff51-4590-b157-6695ab004a3c",
   "metadata": {},
   "outputs": [
    {
     "name": "stdout",
     "output_type": "stream",
     "text": [
      "This Bagad Billota is dancing.\n"
     ]
    }
   ],
   "source": [
    "print(animal.make_sound())"
   ]
  },
  {
   "cell_type": "code",
   "execution_count": 103,
   "id": "1aedef41-b910-4770-9293-165da2c6684f",
   "metadata": {},
   "outputs": [
    {
     "name": "stdout",
     "output_type": "stream",
     "text": [
      "This is dirct from parent class\n"
     ]
    }
   ],
   "source": [
    "# This is the example how we can access any parameter paent class from child class's instance. \n",
    "print(super(Cat,animal).make_sound())"
   ]
  },
  {
   "cell_type": "markdown",
   "id": "493bfaeb-1ce5-49cd-9855-8ff78fe3f70b",
   "metadata": {},
   "source": [
    "### Multiple inheritance \n",
    "Multiple inheritance involves a class inheriting from multiple parent classes."
   ]
  },
  {
   "cell_type": "code",
   "execution_count": 104,
   "id": "8a85ba44-6d07-457e-964f-b30130142c38",
   "metadata": {},
   "outputs": [],
   "source": [
    "class parent1:\n",
    "    def __init__(self,name):\n",
    "        self.name=name\n",
    "    def display1(self):\n",
    "        print(f\"Nmae is {self.name}\")\n",
    "\n",
    "class parent2:\n",
    "    def __init__(self,age):\n",
    "        self.age=age\n",
    "    def display2(self):\n",
    "        print(f\"Age is {self.age}\")\n",
    "\n",
    "class child(parent1,parent2):\n",
    "    def __init__(self,name,age):\n",
    "        super().__init__(name)\n",
    "        parent2.__init__(self,age)\n",
    "        \"\"\"We can also do it as :\n",
    "        parent1.__init__(self,name)\n",
    "        parent2.__init__(self,age)\"\"\"\n",
    "    def display(self):\n",
    "        super().display1()\n",
    "        super().display2()\n",
    "    def __str__(self):\n",
    "        return(f\"Name is {self.name} and age is {self.age}.\" )        "
   ]
  },
  {
   "cell_type": "code",
   "execution_count": 105,
   "id": "afb8d9fb-298d-4450-a8b5-8cb984cd26d6",
   "metadata": {},
   "outputs": [
    {
     "name": "stdout",
     "output_type": "stream",
     "text": [
      "Name is Akash and age is 23.\n"
     ]
    }
   ],
   "source": [
    "person12=child(\"Akash\",23)\n",
    "print(person12)"
   ]
  },
  {
   "cell_type": "code",
   "execution_count": 106,
   "id": "4ccbe7d1-5a51-41b0-ac0a-58cab16c6672",
   "metadata": {},
   "outputs": [
    {
     "name": "stdout",
     "output_type": "stream",
     "text": [
      "Nmae is Akash\n",
      "Age is 23\n"
     ]
    }
   ],
   "source": [
    "person12.display()"
   ]
  },
  {
   "cell_type": "markdown",
   "id": "0360518f-f5c4-46b9-999a-8825b59d5088",
   "metadata": {},
   "source": [
    "#### by using the super() keyword, we can call user-defined functions from both parent classes in the child class. But it is not same case for attributes defined in parent class and if we are using super() keyword to call attribute it can only call attribute of parent1 class as it defined first in child classand for calling attribute from parent2 class we need to call via class name as showed in previous class."
   ]
  },
  {
   "cell_type": "markdown",
   "id": "ed8ede46-4884-4f38-a29f-0b16152678a2",
   "metadata": {},
   "source": [
    "### Mulitilevel Inheritance :\n",
    "Multilevel inheritance involves a chain of inheritance, Where a derived class inherits from a base class and that derived class becomes the base class for another class.  "
   ]
  },
  {
   "cell_type": "code",
   "execution_count": 107,
   "id": "d4c1de5b-6d1d-499c-a4a8-7802a3f59046",
   "metadata": {},
   "outputs": [],
   "source": [
    "class animal:\n",
    "    def __init__(self,type1):\n",
    "        \"\"\"type : It's a ater type or  non-water type \"\"\"\n",
    "        self.type1=type1\n",
    "    def display1(self):\n",
    "        print(f\"It's a {self.type1} type animal.\")\n",
    "class Dog(animal):\n",
    "    def __init__(self,type1,nature):\n",
    "        \"\"\"nature : It's a wildlife animal or domestic animal.\"\"\"\n",
    "        self.nature=nature\n",
    "        super().__init__(type1)\n",
    "    def display2(self):\n",
    "        print(f\"This is the {self.nature} animal which is a {self.type1} animal.\")\n",
    "class German(Dog):\n",
    "    def __init__(self,type1,nature,name):\n",
    "        self.name=name\n",
    "        super().__init__(type1,nature)\n",
    "    def display3(self):\n",
    "        print(f\"This's the {self.nature} animal which is a {self.type1} animal whose name is {self.name}.\")"
   ]
  },
  {
   "cell_type": "code",
   "execution_count": 108,
   "id": "ccf18917-1eec-456f-bf5c-e706cad535dc",
   "metadata": {},
   "outputs": [],
   "source": [
    "animal1=German(\"non-water\",\"domestic\",\"sheru\")"
   ]
  },
  {
   "cell_type": "code",
   "execution_count": 109,
   "id": "150b7c55-96f0-4718-8a35-84c18a673876",
   "metadata": {},
   "outputs": [
    {
     "name": "stdout",
     "output_type": "stream",
     "text": [
      "It's a non-water type animal.\n",
      "This is the domestic animal which is a non-water animal.\n",
      "This's the domestic animal which is a non-water animal whose name is sheru.\n"
     ]
    }
   ],
   "source": [
    "animal1.display1()\n",
    "animal1.display2()\n",
    "animal1.display3()"
   ]
  },
  {
   "cell_type": "markdown",
   "id": "28d1ec40-832f-4207-9e07-60d8ee450f0f",
   "metadata": {},
   "source": [
    "### Hierarchical inheritance\n",
    "A single base class is inherited by multiple derived classes. Each derived class forms a separate branch or level in the hierarchi, resulting in a hierarchical structure of classes."
   ]
  },
  {
   "cell_type": "code",
   "execution_count": 110,
   "id": "5c3d0255-c27d-4f29-ad47-512262cc3dbf",
   "metadata": {},
   "outputs": [],
   "source": [
    "class Animal:\n",
    "    def __init__(self,Name):\n",
    "        self.Name=Name\n",
    "    def Display(self):\n",
    "        print(f\"Animal name is {self.Name}\")\n",
    "class Cat(Animal): # Hierarchical inheritance\n",
    "    def __init__(self,Name):\n",
    "        super().__init__(Name)\n",
    "    def Sound(self,sound):\n",
    "        super().Display()\n",
    "        return f\"Making sound Like {sound}\"\n",
    "class Dog(Animal): # Hierarchical inheritance\n",
    "    def __init__(self,Name):\n",
    "        super().__init__(Name)\n",
    "    def Sound(self,sound):\n",
    "        super().Display()\n",
    "        return f\"Making sound Like {sound}\""
   ]
  },
  {
   "cell_type": "code",
   "execution_count": 111,
   "id": "83954649-0955-455c-93fd-db37201368f0",
   "metadata": {},
   "outputs": [
    {
     "name": "stdout",
     "output_type": "stream",
     "text": [
      "Animal name is Billa\n",
      "None\n"
     ]
    }
   ],
   "source": [
    "Janvar= Cat(\"Billa\")\n",
    "print(Janvar.Display())"
   ]
  },
  {
   "cell_type": "code",
   "execution_count": 112,
   "id": "e674bd99-7a57-4b50-9062-b86f4f416a90",
   "metadata": {},
   "outputs": [
    {
     "name": "stdout",
     "output_type": "stream",
     "text": [
      "Animal name is Billa\n",
      "Making sound Like 'Mao Mao'\n"
     ]
    }
   ],
   "source": [
    "print(Janvar.Sound(\"'Mao Mao'\"))"
   ]
  },
  {
   "cell_type": "code",
   "execution_count": 113,
   "id": "f4a39201-c2c9-4f8e-ab64-5eedbbb33a03",
   "metadata": {},
   "outputs": [
    {
     "name": "stdout",
     "output_type": "stream",
     "text": [
      "Animal name is Billa\n",
      "Making sound Like 'Bao bao'\n"
     ]
    }
   ],
   "source": [
    "print(Janvar.Sound(\"'Bao bao'\"))"
   ]
  },
  {
   "cell_type": "markdown",
   "id": "009b2e62-9b47-4e0b-ac0a-ddbefc2934d7",
   "metadata": {},
   "source": [
    "### Hybrid inheritance :\n",
    "Hybrid inheritance is a combination of multiple inheritance and hierarchical inheritance. It involves inheriting from both base classes and derived classes, forming a hybrid structure.\n",
    "<p>Example : Let i have a base class as Animal and two derived classes called \"mamaml\" and \"bird\". Now  iwant to create a class called \"bat\" that inherits from both \"mammal\" and \"Bird\" classes.</p>"
   ]
  },
  {
   "cell_type": "code",
   "execution_count": 114,
   "id": "00d07e64-ce5d-40e0-9138-4b36e947db3d",
   "metadata": {},
   "outputs": [],
   "source": [
    "class animal:\n",
    "    def breath(self):\n",
    "        print(\"Animal is breathing.\")\n",
    "class Mammal(animal):\n",
    "    def feed_milk(self):\n",
    "        print(\"Mammal is feeding milk.\")\n",
    "class Bird(animal):\n",
    "    def fly(self):\n",
    "        print(\"Birds are flying\")\n",
    "class Bat(Mammal,Bird):\n",
    "    def hang(self):\n",
    "        print(\"Bat is hanging upside down.\")\n",
    "        "
   ]
  },
  {
   "cell_type": "code",
   "execution_count": 115,
   "id": "27a02bf1-e473-4162-8ef7-6f477e4ed305",
   "metadata": {},
   "outputs": [],
   "source": [
    "batman=Bat()"
   ]
  },
  {
   "cell_type": "code",
   "execution_count": 116,
   "id": "9ec18f6b-b225-49df-9ce4-36f423aa3097",
   "metadata": {},
   "outputs": [
    {
     "name": "stdout",
     "output_type": "stream",
     "text": [
      "Animal is breathing.\n",
      "Mammal is feeding milk.\n",
      "Birds are flying\n",
      "Bat is hanging upside down.\n"
     ]
    }
   ],
   "source": [
    "batman.breath()\n",
    "batman.feed_milk()\n",
    "batman.fly()\n",
    "batman.hang()"
   ]
  },
  {
   "cell_type": "markdown",
   "id": "0b29608a-17d5-4508-96af-a7c4b6f160ff",
   "metadata": {},
   "source": [
    "### Access modifier\n",
    "In object-oriented programming (OOP), access modifiers are used to define the level of visibility and accessibility of class members (attributes and methods) from other parts of the program. Encapsulation, one of the principles of OOP, aims to hide the internal implementation details of an object and provide controlled access to its members.\n",
    "\n",
    "The common access modifiers used for encapsulation in many OOP languages are:\n",
    "\n",
    " 1. Public: Public members are accessible from anywhere in the program. They have no access restrictions, and any code can access or modify them.\n",
    " 2. Private: Private members are accessible only within the same class. They cannot be accessed or modified by any external code or other classes.\n",
    " 3. Protected: Protected members are accessible within the same class and its subclasses (inheritance). They are not accessible from outside the class hierarchy."
   ]
  },
  {
   "cell_type": "markdown",
   "id": "f5238ec6-cea2-4b9e-890a-a4d68ed6e848",
   "metadata": {},
   "source": [
    "#### Example for Protected Access Modifiers"
   ]
  },
  {
   "cell_type": "code",
   "execution_count": 117,
   "id": "39775b25-c4b7-4d1d-820b-52bd8e488356",
   "metadata": {},
   "outputs": [],
   "source": [
    "class Student:\n",
    "    def __init__(self,name,roll):\n",
    "        \"\"\"There is no strictly protected access modifiers in python. By convention, attributes and methods prefixes with a single underscore _ are considered protected. It indicates that \n",
    "        that these members are intended for internal use within the class and its subclass.\"\"\"\n",
    "        self._name=name # Protected attribute\n",
    "        self._roll=roll # Protected attribute\n",
    "    \n",
    "    def _display(self): # Protected method\n",
    "        print(f\"Name is {self._name} and roll number is {self._roll}\")\n",
    "class Genius(Student):\n",
    "    def __init__(self,name,roll):\n",
    "        super().__init__(name,roll)\n",
    "    def displaydetails(self):\n",
    "        print(f\"Name is :{self._name} and Roll number :{self._roll}\")\n",
    "        self._display() # When we are calling any protected functon in child class from parent class we can also do this via self class becuse all protected function can directly accessed in derived class.\n",
    "    \n",
    "    "
   ]
  },
  {
   "cell_type": "code",
   "execution_count": 118,
   "id": "cd5fab11-a5df-4177-966d-8b052699d26a",
   "metadata": {},
   "outputs": [],
   "source": [
    "student1=Genius(\"Raju\",\"212121018\")"
   ]
  },
  {
   "cell_type": "code",
   "execution_count": 119,
   "id": "9b93fd7c-d618-42cb-9eaa-69a668b16204",
   "metadata": {},
   "outputs": [
    {
     "name": "stdout",
     "output_type": "stream",
     "text": [
      "Name is Raju and roll number is 212121018\n"
     ]
    }
   ],
   "source": [
    "student1._display()"
   ]
  },
  {
   "cell_type": "code",
   "execution_count": 120,
   "id": "dd548a08-e180-4f70-9543-9ad059d8b8cf",
   "metadata": {},
   "outputs": [
    {
     "name": "stdout",
     "output_type": "stream",
     "text": [
      "Name is :Raju and Roll number :212121018\n",
      "Name is Raju and roll number is 212121018\n"
     ]
    }
   ],
   "source": [
    "student1.displaydetails()"
   ]
  },
  {
   "cell_type": "markdown",
   "id": "544128f3-8909-4498-9a84-056118622bab",
   "metadata": {},
   "source": [
    "### Private Access Modifiers:\n"
   ]
  },
  {
   "cell_type": "code",
   "execution_count": 121,
   "id": "bbc285ca-993b-41b1-9796-8905c438eccd",
   "metadata": {},
   "outputs": [],
   "source": [
    "class Student:\n",
    "    def __init__(self,name,roll):\n",
    "        \"\"\"There is no strictly private access modifiers in python. By convention, attributes and methods prefixes with a double underscore __ are considered private. It indicates that \n",
    "        that these members are intended for internal use within the class.\"\"\"\n",
    "        self.__name=name # Private attribute\n",
    "        self.__roll=roll # Private attribute\n",
    "    \n",
    "    def __display(self): #  Private method\n",
    "        print(f\"Name is {self.__name} and roll number is {self.__roll}\")\n",
    "    # Function defined class itself can only call private attributes and methods.\n",
    "    def Display12(self):\n",
    "        self.__display()\n",
    "\n",
    "class Genius(Student):\n",
    "    def __init__(self,name,roll,subject):\n",
    "        super().__init__(name,roll)\n",
    "        self.subject=subject\n",
    "    def Display23(self):\n",
    "        print(f\"Name is : {self.__name} \\n Roll Number : {self.__roll} \\n Subject : {self.subject}\")\n",
    "\n",
    "    "
   ]
  },
  {
   "cell_type": "code",
   "execution_count": 122,
   "id": "dc3a3099-c93b-443b-9a16-a712b68df362",
   "metadata": {},
   "outputs": [],
   "source": [
    "student2=Genius(\"Bheem\",123456,\"Mathematics\")\n"
   ]
  },
  {
   "cell_type": "code",
   "execution_count": 123,
   "id": "7556f645-b212-4928-ba77-66d1af01136b",
   "metadata": {},
   "outputs": [
    {
     "ename": "AttributeError",
     "evalue": "'Genius' object has no attribute '_Genius__name'",
     "output_type": "error",
     "traceback": [
      "\u001b[0;31m---------------------------------------------------------------------------\u001b[0m",
      "\u001b[0;31mAttributeError\u001b[0m                            Traceback (most recent call last)",
      "Cell \u001b[0;32mIn [123], line 1\u001b[0m\n\u001b[0;32m----> 1\u001b[0m \u001b[43mstudent2\u001b[49m\u001b[38;5;241;43m.\u001b[39;49m\u001b[43mDisplay23\u001b[49m\u001b[43m(\u001b[49m\u001b[43m)\u001b[49m\n",
      "Cell \u001b[0;32mIn [121], line 19\u001b[0m, in \u001b[0;36mGenius.Display23\u001b[0;34m(self)\u001b[0m\n\u001b[1;32m     18\u001b[0m \u001b[38;5;28;01mdef\u001b[39;00m \u001b[38;5;21mDisplay23\u001b[39m(\u001b[38;5;28mself\u001b[39m):\n\u001b[0;32m---> 19\u001b[0m     \u001b[38;5;28mprint\u001b[39m(\u001b[38;5;124mf\u001b[39m\u001b[38;5;124m\"\u001b[39m\u001b[38;5;124mName is : \u001b[39m\u001b[38;5;132;01m{\u001b[39;00m\u001b[38;5;28mself\u001b[39m\u001b[38;5;241m.\u001b[39m__name\u001b[38;5;132;01m}\u001b[39;00m\u001b[38;5;124m \u001b[39m\u001b[38;5;130;01m\\n\u001b[39;00m\u001b[38;5;124m Roll Number : \u001b[39m\u001b[38;5;132;01m{\u001b[39;00m\u001b[38;5;28mself\u001b[39m\u001b[38;5;241m.\u001b[39m__roll\u001b[38;5;132;01m}\u001b[39;00m\u001b[38;5;124m \u001b[39m\u001b[38;5;130;01m\\n\u001b[39;00m\u001b[38;5;124m Subject : \u001b[39m\u001b[38;5;132;01m{\u001b[39;00m\u001b[38;5;28mself\u001b[39m\u001b[38;5;241m.\u001b[39msubject\u001b[38;5;132;01m}\u001b[39;00m\u001b[38;5;124m\"\u001b[39m)\n",
      "\u001b[0;31mAttributeError\u001b[0m: 'Genius' object has no attribute '_Genius__name'"
     ]
    }
   ],
   "source": [
    "student2.Display23()"
   ]
  },
  {
   "cell_type": "code",
   "execution_count": 124,
   "id": "884bb790-9836-482c-98f4-783ec14e5aba",
   "metadata": {},
   "outputs": [],
   "source": [
    "student3=Student(\"Bheem\",123456)"
   ]
  },
  {
   "cell_type": "code",
   "execution_count": 125,
   "id": "73c68177-9cdf-412f-9af0-26f7f69fa0cf",
   "metadata": {},
   "outputs": [
    {
     "ename": "AttributeError",
     "evalue": "'Student' object has no attribute '__display'",
     "output_type": "error",
     "traceback": [
      "\u001b[0;31m---------------------------------------------------------------------------\u001b[0m",
      "\u001b[0;31mAttributeError\u001b[0m                            Traceback (most recent call last)",
      "Cell \u001b[0;32mIn [125], line 1\u001b[0m\n\u001b[0;32m----> 1\u001b[0m \u001b[43mstudent3\u001b[49m\u001b[38;5;241;43m.\u001b[39;49m\u001b[43m__display\u001b[49m()\n",
      "\u001b[0;31mAttributeError\u001b[0m: 'Student' object has no attribute '__display'"
     ]
    }
   ],
   "source": [
    "student3.__display()"
   ]
  },
  {
   "cell_type": "code",
   "execution_count": 126,
   "id": "e35da5aa-fd2c-4e26-bc5a-4594965aef59",
   "metadata": {},
   "outputs": [
    {
     "name": "stdout",
     "output_type": "stream",
     "text": [
      "Name is Bheem and roll number is 123456\n"
     ]
    }
   ],
   "source": [
    "student3.Display12() # Fucntion defined in class itself only call private access modifiers"
   ]
  },
  {
   "cell_type": "markdown",
   "id": "0ab1283d-c083-4249-926f-02278454c5f3",
   "metadata": {},
   "source": [
    "<p><span style=\"color: #ff0000;\"> Note : The folder where the python script is running is known as the current dirctry. This is not the path where the script s located.\n",
    "From all above example we can say that private access modifiers only can be accessed in the class itself.\n"
   ]
  },
  {
   "cell_type": "markdown",
   "id": "100a6554-5288-4fac-a630-54af9a1a90e4",
   "metadata": {},
   "source": [
    "### Polymorphism \n",
    "#### Method Overriding : Wgen a subclass defines a method that is already defined in its parent class, with the same name amd the same number and types of parameters."
   ]
  },
  {
   "cell_type": "code",
   "execution_count": 127,
   "id": "004f6ca4-113e-42a3-bcf0-42957c50eb55",
   "metadata": {},
   "outputs": [],
   "source": [
    "class Animal:\n",
    "    def __init__(self,name):\n",
    "        self.name=name\n",
    "    def make_sound(self):\n",
    "        return (\"This is direct from parent class\")\n",
    "class Cat(Animal):\n",
    "    def make_sound(self):\n",
    "        return (f\"This {self.name} is dancing.\")\n",
    "class Dog(Animal):\n",
    "    def make_sound(self):\n",
    "        return (f\"This Dog is a {self.name} Ghost. \")"
   ]
  },
  {
   "cell_type": "code",
   "execution_count": 128,
   "id": "4e3c2323-096e-485d-844a-2c77bd5818d9",
   "metadata": {},
   "outputs": [],
   "source": [
    "animal=Cat(\"Bagad Billota\")"
   ]
  },
  {
   "cell_type": "code",
   "execution_count": 129,
   "id": "b07a2b1b-2a17-455f-b7d4-c4934333e79b",
   "metadata": {},
   "outputs": [
    {
     "name": "stdout",
     "output_type": "stream",
     "text": [
      "This Bagad Billota is dancing.\n"
     ]
    }
   ],
   "source": [
    "print(animal.make_sound())"
   ]
  },
  {
   "cell_type": "code",
   "execution_count": 130,
   "id": "36df0fa9-b7a3-4f24-8f6c-ee31c2765dea",
   "metadata": {},
   "outputs": [
    {
     "name": "stdout",
     "output_type": "stream",
     "text": [
      "This is direct from parent class\n"
     ]
    }
   ],
   "source": [
    "print(super(Cat,animal).make_sound()) # calling method from parent clas after overriding with the help of object maped with the child class."
   ]
  },
  {
   "cell_type": "markdown",
   "id": "85b3ca72-a936-4274-af86-6308ed07c4fa",
   "metadata": {},
   "source": [
    "### Variables and methods:\n",
    "#### Instance variables and methods : \n",
    "Instance Variables: Instance variables are specific to each instance of a class. They are defined within the class's methods, usually within the __init__ method. Instance variables hold data that is unique to each instance. "
   ]
  },
  {
   "cell_type": "code",
   "execution_count": 131,
   "id": "e1a4c9e0-9c7e-4e0f-a46c-ce576ce51aaa",
   "metadata": {},
   "outputs": [],
   "source": [
    "class Calculator:\n",
    "    def add(self,x,y):\n",
    "        return x+y\n",
    "    def add(self,x,y,z):\n",
    "        return x+y+z"
   ]
  },
  {
   "cell_type": "code",
   "execution_count": 132,
   "id": "ad393fd3-5dba-4ef4-a509-8f7dc5e0353b",
   "metadata": {},
   "outputs": [
    {
     "name": "stdout",
     "output_type": "stream",
     "text": [
      "Alice\n",
      "30\n"
     ]
    }
   ],
   "source": [
    "class Person:\n",
    "    def __init__(self, name, age):\n",
    "        self.name = name\n",
    "        self.age = age\n",
    "\n",
    "person1 = Person(\"Alice\", 25)\n",
    "person2 = Person(\"Bob\", 30)\n",
    "\n",
    "\n",
    "print(person1.name) \n",
    "print(person2.age) \n"
   ]
  },
  {
   "cell_type": "markdown",
   "id": "f9b8f005-9c40-41b7-a964-eb35f80a54c8",
   "metadata": {},
   "source": [
    "Instance Methods: Instance methods are defined inside a class and operate on individual instances of the class. They can access and modify instance variables. By default, instance methods have access to the instance itself (usually denoted as self). "
   ]
  },
  {
   "cell_type": "code",
   "execution_count": 133,
   "id": "9673fc39-28ca-4774-be6e-3e6609a68317",
   "metadata": {},
   "outputs": [
    {
     "name": "stdout",
     "output_type": "stream",
     "text": [
      "78.5\n"
     ]
    }
   ],
   "source": [
    "class Circle:\n",
    "    def __init__(self, radius):\n",
    "        self.radius = radius\n",
    "\n",
    "    def calculate_area(self):\n",
    "        return 3.14 * self.radius * self.radius\n",
    "\n",
    "circle = Circle(5)\n",
    "area = circle.calculate_area()\n",
    "print(area) \n"
   ]
  },
  {
   "cell_type": "markdown",
   "id": "842062bf-e730-45f3-8ad4-3672c14cf675",
   "metadata": {},
   "source": [
    "### Class Variables and Methods:\n",
    "\n",
    "#### Class Variables:\n",
    "Class variables are variables that are shared among all instances of a class. They are defined within the class but outside of any methods. Class variables are accessed using the class name or any instance of the class. When a class variable is modified, the change is reflected in all instances of the class."
   ]
  },
  {
   "cell_type": "code",
   "execution_count": 134,
   "id": "cec1d683-e19a-47dc-ac98-8286b664a66c",
   "metadata": {},
   "outputs": [
    {
     "name": "stdout",
     "output_type": "stream",
     "text": [
      "4\n",
      "4\n",
      "4\n",
      "6\n",
      "6\n"
     ]
    }
   ],
   "source": [
    "class Car:\n",
    "    # Class variable\n",
    "    wheels = 4\n",
    "\n",
    "    def __init__(self, brand):\n",
    "        self.brand = brand\n",
    "\n",
    "print(Car.wheels)  \n",
    "\n",
    "car1 = Car(\"Toyota\")\n",
    "car2 = Car(\"Honda\")\n",
    "\n",
    "print(car1.wheels)  \n",
    "print(car2.wheels)  \n",
    "Car.wheels = 6\n",
    "print(car1.wheels)  \n",
    "print(car2.wheels)  \n"
   ]
  },
  {
   "cell_type": "markdown",
   "id": "0c7e06bc-a94b-43ff-b753-9d5d17adb791",
   "metadata": {},
   "source": [
    "Class Methods: Class methods are methods that are bound to the class and not the instances. They can only access class variables and perform operations related to the class. Class methods are defined using the @classmethod decorator and receive the class itself (usually denoted as cls) as the first parameter. "
   ]
  },
  {
   "cell_type": "code",
   "execution_count": 135,
   "id": "3c995f5f-6c01-4f56-b04f-dc9cd677e7fb",
   "metadata": {},
   "outputs": [
    {
     "name": "stdout",
     "output_type": "stream",
     "text": [
      "18.849539999999998\n"
     ]
    }
   ],
   "source": [
    "class MathUtils:\n",
    "    PI = 3.14159\n",
    "\n",
    "    @classmethod\n",
    "    def multiply(cls, x, y):\n",
    "        return x * y * cls.PI\n",
    "result = MathUtils.multiply(2, 3)\n",
    "print(result) \n"
   ]
  },
  {
   "cell_type": "markdown",
   "id": "dd33e7aa-7d0f-49e6-88ff-2376f462711f",
   "metadata": {},
   "source": [
    "### Static Methods:\n",
    "\n",
    "#### Static Methods: Static methods are methods that are bound to the class and don't have access to the instance or class variables. They are defined using the @staticmethod decorator and don't receive any special parameters like self or cls. Static methods are primarily used for utility functions that don't depend on instance or class state. "
   ]
  },
  {
   "cell_type": "code",
   "execution_count": 136,
   "id": "a09bfcb2-4b8b-4da7-a06d-b180cb0748c4",
   "metadata": {},
   "outputs": [
    {
     "name": "stdout",
     "output_type": "stream",
     "text": [
      "olleH\n"
     ]
    }
   ],
   "source": [
    "class StringUtils:\n",
    "    @staticmethod\n",
    "    def reverse_string(string):\n",
    "        return string[::-1]\n",
    "    \n",
    "reversed = StringUtils.reverse_string(\"Hello\")\n",
    "print(reversed) \n"
   ]
  },
  {
   "cell_type": "markdown",
   "id": "17deb59b-215b-4340-a29c-2a263ee38fcf",
   "metadata": {},
   "source": [
    "### Getters and Setters\n",
    "#### Getters are method that are used to access the values of an object's properties. They are used to return the value of a specific property, and are typically defined using the '@property' decorator.\n",
    "#### Setters : In gettersb we do not give any parameters and we cannot set the value thrugh getter method. For that we need setter methpd which can be aded by decorating method '@property_name.setter'."
   ]
  },
  {
   "cell_type": "code",
   "execution_count": 143,
   "id": "b146b60e-d42a-41aa-a0a4-85f787be3236",
   "metadata": {},
   "outputs": [],
   "source": [
    "class myclass:\n",
    "    def __init__(self,value):\n",
    "        self.value=value\n",
    "    def show(self):\n",
    "        print(f\"Value is {self.value}\")\n",
    "    @property\n",
    "    def Multiply(self):\n",
    "        return 10*self.value\n",
    "    \n",
    "    @Multiply.setter\n",
    "    def Multiply(self,new_value):\n",
    "        self.new_value=new_value\n",
    "        if new_value == 0:\n",
    "            print(\"This is not a good number to devide any value\")\n",
    "        else:\n",
    "            print(self.value / self.new_value)\n",
    "    "
   ]
  },
  {
   "cell_type": "code",
   "execution_count": 146,
   "id": "cb2932e5-ae81-4d65-83c3-90ebe05313aa",
   "metadata": {},
   "outputs": [
    {
     "name": "stdout",
     "output_type": "stream",
     "text": [
      "Value is 5\n",
      "50\n",
      "2.5\n",
      "This is not a good number to devide any value\n"
     ]
    }
   ],
   "source": [
    "obj = myclass(5)\n",
    "obj.show() \n",
    "\n",
    "print(obj.Multiply) # 5 will multiply with 10 as defined in Multiply function \n",
    "\n",
    "obj.Multiply = 2  # 5 will devided with 2 as defined in Multiply function after defining a setter method\n",
    "\n",
    "obj.Multiply = 0  # 5 will devided with 0 as defined in Multiply function after defining a setter method\n",
    "                   # which will give us error. "
   ]
  },
  {
   "cell_type": "markdown",
   "id": "0ecb4c31-6b47-4352-be3f-7e661180d1fa",
   "metadata": {},
   "source": [
    "## setattr and getattr methods : \n",
    "Both are built-in python functions used to dynamically set and retrive attributes of an object, respectively.\n",
    "1. '**setattr(object,name,value)**' : The '**setattr**' function sets the value of a named attribute on an object.             \n",
    "            '**object**' : The object on which the attribute will be set.                            \n",
    "            '**name**' : A string representing the name of the attribute.                        \n",
    "            '**value**' : The value to be assigned to the attribute.            \n",
    "\n",
    "2. '**getattr(object,name,default)**' : The '**getattr**' function retrieves the value of a named attribute from an object."
   ]
  },
  {
   "cell_type": "markdown",
   "id": "53931072-14ba-4056-a2f9-110118cf30fa",
   "metadata": {},
   "source": [
    "### Example : 1"
   ]
  },
  {
   "cell_type": "code",
   "execution_count": 10,
   "id": "20897d1e-f6c7-4f1c-ba9a-2c32d520351c",
   "metadata": {},
   "outputs": [
    {
     "data": {
      "text/plain": [
       "25"
      ]
     },
     "execution_count": 10,
     "metadata": {},
     "output_type": "execute_result"
    }
   ],
   "source": [
    "class person:\n",
    "    pass \n",
    "\n",
    "p=person()\n",
    "setattr(p,'name','Akash')\n",
    "setattr(p,'rollNumber',212121005)\n",
    "\n",
    "getattr(p,'name')\n",
    "getattr(p,'age',25)\n"
   ]
  },
  {
   "cell_type": "code",
   "execution_count": 12,
   "id": "1446044a-319e-40ce-905e-e5eec2e11b75",
   "metadata": {},
   "outputs": [
    {
     "name": "stdout",
     "output_type": "stream",
     "text": [
      "Akash\n"
     ]
    }
   ],
   "source": [
    "print(p.name)"
   ]
  },
  {
   "cell_type": "markdown",
   "id": "81222a5b-9820-4849-944d-08d71fa8b937",
   "metadata": {},
   "source": [
    "### Example : 2 Dynamic attribute retrival :\n"
   ]
  },
  {
   "cell_type": "code",
   "execution_count": 16,
   "id": "e547debe-021b-4016-9dcf-986aaec9a46e",
   "metadata": {},
   "outputs": [
    {
     "name": "stdin",
     "output_type": "stream",
     "text": [
      "GIve the attribute name. name\n"
     ]
    },
    {
     "name": "stdout",
     "output_type": "stream",
     "text": [
      "Akash\n"
     ]
    }
   ],
   "source": [
    "class person:\n",
    "    def __init__(self,name,age):\n",
    "        self.name=name\n",
    "        self.age=age\n",
    "        \n",
    "p1 = person(\"Akash\", 23)\n",
    "\n",
    "attribute_name = input(\"GIve the attribute name.\")\n",
    "attribute_value= getattr(p1,attribute_name)\n",
    "print(attribute_value)\n",
    "        "
   ]
  },
  {
   "cell_type": "markdown",
   "id": "ba667fbf-f4bf-4819-9566-26a01bf673b4",
   "metadata": {},
   "source": [
    "### Example : 3 Handling optional atribute : "
   ]
  },
  {
   "cell_type": "code",
   "execution_count": 17,
   "id": "3fd71b7b-a3d0-431b-b9e5-5403a496f7d1",
   "metadata": {},
   "outputs": [
    {
     "name": "stdout",
     "output_type": "stream",
     "text": [
      "Unknown\n"
     ]
    }
   ],
   "source": [
    "p2=person(\"Akash\",56)\n",
    "\n",
    "attribute_value = getattr(p2,\"gender\",\"Unknown\")\n",
    "print(attribute_value)"
   ]
  },
  {
   "cell_type": "markdown",
   "id": "d9e4b4e8-894b-42f8-85e2-efb869901883",
   "metadata": {},
   "source": [
    "in above example, 'getattr' attemps to retrive the 'gender' attribute from the 'person' object 'p2'. Since the 'gender' attribute does not exist, it returns the default value 'Unknown'.         \n",
    "Overall "
   ]
  },
  {
   "cell_type": "code",
   "execution_count": 26,
   "id": "40024b9e-8a7c-4319-acef-758ad8ddeb38",
   "metadata": {},
   "outputs": [
    {
     "name": "stdout",
     "output_type": "stream",
     "text": [
      "23\n"
     ]
    }
   ],
   "source": [
    "class person:\n",
    "    def __init__(self,name,age,salary,is_student):\n",
    "        self.name=name\n",
    "        self.age=age\n",
    "        self.salary=salary\n",
    "        self.is_student=is_student\n",
    "\n",
    "p3=person(\"Akash\",23,1000000,True)\n",
    "\n",
    "attribute_name= \"age\" if p3.is_student else \"salary\"\n",
    "attribte_value = getattr(p3,attribute_name)\n",
    "\n",
    "print(attribte_value)"
   ]
  },
  {
   "cell_type": "code",
   "execution_count": 28,
   "id": "e7f9cd98-b337-4173-a612-2ea5ce98022f",
   "metadata": {},
   "outputs": [
    {
     "name": "stdout",
     "output_type": "stream",
     "text": [
      "True\n"
     ]
    }
   ],
   "source": [
    "class person:\n",
    "    def __init__(self,name):\n",
    "        self.name=name\n",
    "        \n",
    "p = person(\"jonny\")\n",
    "if p.name == \"jonny\":\n",
    "    setattr(p,\"is_student\",True)\n",
    "else:\n",
    "    setattr(p,\"is_student\",False)\n",
    "print(getattr(p,\"is_student\"))"
   ]
  },
  {
   "cell_type": "markdown",
   "id": "996bbef3-f93a-4630-a7dc-cde6c8cbf1e3",
   "metadata": {},
   "source": [
    "### '**__del__**' method : to destroy created object. "
   ]
  },
  {
   "cell_type": "code",
   "execution_count": 1,
   "id": "a129b1d3-a26f-44b0-b046-8b3b1f6798db",
   "metadata": {},
   "outputs": [],
   "source": [
    "class MyClass:\n",
    "    def __init__(self,name):\n",
    "        self.name=name\n",
    "        print(\"Object is created.\")\n",
    "    def __del__(self):\n",
    "        print(\"Object is destroyed.\")"
   ]
  },
  {
   "cell_type": "code",
   "execution_count": 2,
   "id": "511a474a-e42b-4798-8fa0-20e828eb7fbc",
   "metadata": {},
   "outputs": [
    {
     "name": "stdout",
     "output_type": "stream",
     "text": [
      "Object is created.\n"
     ]
    }
   ],
   "source": [
    "obj = MyClass(\"Akash\")"
   ]
  },
  {
   "cell_type": "code",
   "execution_count": 3,
   "id": "078e3f51-6ff5-491f-8f20-a1513ef7196a",
   "metadata": {},
   "outputs": [
    {
     "data": {
      "text/plain": [
       "'Akash'"
      ]
     },
     "execution_count": 3,
     "metadata": {},
     "output_type": "execute_result"
    }
   ],
   "source": [
    "obj.name"
   ]
  },
  {
   "cell_type": "code",
   "execution_count": 7,
   "id": "8127299c-aa8f-4927-81c4-af089909cc0f",
   "metadata": {},
   "outputs": [
    {
     "name": "stdout",
     "output_type": "stream",
     "text": [
      "Object is destroyed.\n"
     ]
    }
   ],
   "source": [
    "del obj"
   ]
  },
  {
   "cell_type": "code",
   "execution_count": 8,
   "id": "fa3cac69-2811-4288-a831-5577085e7913",
   "metadata": {},
   "outputs": [
    {
     "ename": "NameError",
     "evalue": "name 'obj' is not defined",
     "output_type": "error",
     "traceback": [
      "\u001b[0;31m---------------------------------------------------------------------------\u001b[0m",
      "\u001b[0;31mNameError\u001b[0m                                 Traceback (most recent call last)",
      "Cell \u001b[0;32mIn [8], line 1\u001b[0m\n\u001b[0;32m----> 1\u001b[0m \u001b[43mobj\u001b[49m\u001b[38;5;241m.\u001b[39mname\n",
      "\u001b[0;31mNameError\u001b[0m: name 'obj' is not defined"
     ]
    }
   ],
   "source": [
    "obj.name"
   ]
  },
  {
   "cell_type": "markdown",
   "id": "590e9508-6295-4b09-ab2e-4ea514222ffb",
   "metadata": {},
   "source": [
    "## Abstraction :\n",
    "        It allow us to focus on essential attributes and behaviours of objects while hiding unnecessary details. It helps in creating more maintainable and understandable code by providing a simplified and hig-level view of object.\n",
    "1. **Abstract classes** : Python provides the \"abc\" module, which allows us to define abstract base classes. An abstract base class can not be instantiated and serves as a blueprint for derived classes. **It defines abstract methods that must be implemented by any concrete subclass**. Abstract classes provide a way to define common interfaces and shared behaviour for a group of related classes.\n",
    "2. **Interfaces** : We can achieve interfaces-like behaviour using abstract classes. By defining abstract methods in an abstract base class nd ensuring that all derived classes implement those methods , we can create nterfaces in python. "
   ]
  },
  {
   "cell_type": "code",
   "execution_count": 15,
   "id": "ad613e84-bd1d-4587-bf5f-ef1a2a05144a",
   "metadata": {},
   "outputs": [
    {
     "name": "stdout",
     "output_type": "stream",
     "text": [
      "Object is created \n",
      " Given length is 12 and width is 34\n"
     ]
    }
   ],
   "source": [
    "from abc import ABC,abstractmethod\n",
    "\n",
    "class Shape(ABC): # abstract base class  \n",
    "    @abstractmethod\n",
    "    def area(self): \n",
    "        \"\"\"By defining abstract method in  an abstract class and ensuring that all derived classes inmplement those methods\"\"\"\n",
    "        pass\n",
    "\"\"\" The abstract class enforces hat all derived classes must implemented the 'area()' mrthod. \"\"\"\n",
    "class Ractangle(Shape): # Concrete subclass\n",
    "    def __init__(self,length,width):\n",
    "        self.length=length\n",
    "        self.width=width\n",
    "        \n",
    "        print(f\"Object is created \\n Given length is {self.length} and width is {self.width}\")\n",
    "    def area(self):\n",
    "        return self.length * self.width\n",
    "\n",
    "rect = Ractangle(12,34)"
   ]
  },
  {
   "cell_type": "code",
   "execution_count": 13,
   "id": "8f8ff6ba-d738-463d-bf94-c5304620883f",
   "metadata": {},
   "outputs": [
    {
     "name": "stdout",
     "output_type": "stream",
     "text": [
      "408\n"
     ]
    }
   ],
   "source": [
    "print(rect.area())"
   ]
  },
  {
   "cell_type": "code",
   "execution_count": 17,
   "id": "c5e007bc-5a23-4206-a0a3-66c6758c0a1d",
   "metadata": {},
   "outputs": [],
   "source": [
    "from abc import ABC,abstractmethod\n",
    "# Want to make this class as a abstract class\n",
    "class Vehicle(ABC):\n",
    "    \"\"\"We need to inherite it with the ABC and atleat one method should be a abstract method.\"\"\"\n",
    "    @abstractmethod\n",
    "    def Start(self):\n",
    "        pass\n",
    "    \n",
    "    @abstractmethod\n",
    "    def Stop(self):\n",
    "        pass\n",
    "\n",
    "class Alto(Vehicle):\n",
    "    def Start(self):\n",
    "        print(\"Car started.\")\n",
    "    \n",
    "    def Stop(self):\n",
    "        print(\"Car stoped.\")"
   ]
  },
  {
   "cell_type": "code",
   "execution_count": 18,
   "id": "bb880cd4-78bb-486d-9de9-381b92a5b3e0",
   "metadata": {},
   "outputs": [
    {
     "name": "stdout",
     "output_type": "stream",
     "text": [
      "Car started.\n"
     ]
    }
   ],
   "source": [
    "car=Alto()\n",
    "car.Start()"
   ]
  },
  {
   "cell_type": "code",
   "execution_count": 19,
   "id": "8aadeef2-f6dd-4ff0-b04b-920c0ee2dee6",
   "metadata": {},
   "outputs": [
    {
     "name": "stdout",
     "output_type": "stream",
     "text": [
      "Car stoped.\n"
     ]
    }
   ],
   "source": [
    "car.Stop()"
   ]
  },
  {
   "cell_type": "code",
   "execution_count": null,
   "id": "a3725e40-88c6-4703-953a-738b05bc5158",
   "metadata": {},
   "outputs": [],
   "source": []
  }
 ],
 "metadata": {
  "kernelspec": {
   "display_name": "Python 3 (ipykernel)",
   "language": "python",
   "name": "python3"
  },
  "language_info": {
   "codemirror_mode": {
    "name": "ipython",
    "version": 3
   },
   "file_extension": ".py",
   "mimetype": "text/x-python",
   "name": "python",
   "nbconvert_exporter": "python",
   "pygments_lexer": "ipython3",
   "version": "3.10.6"
  }
 },
 "nbformat": 4,
 "nbformat_minor": 5
}
