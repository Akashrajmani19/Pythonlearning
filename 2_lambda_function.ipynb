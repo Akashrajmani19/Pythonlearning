{
 "cells": [
  {
   "cell_type": "markdown",
   "id": "28be4156-ad39-42cd-a58a-3ba168b74c9c",
   "metadata": {},
   "source": [
    "# Lambda Funtion\n",
    "A Lambda function is a small, anonymous function that can be defined a single line. It is also known as an \"anoymus function\" because it dosen't requir a formal name like a regular function. Lambda functions are typically used when you need a simple function for a short period of time and don't want to define a separate function using the 'def' keyword. Example :"
   ]
  },
  {
   "cell_type": "code",
   "execution_count": 1,
   "id": "88d4ae4f-73da-468c-a11b-cdfa1ed7d561",
   "metadata": {},
   "outputs": [
    {
     "name": "stdout",
     "output_type": "stream",
     "text": [
      "12\n"
     ]
    }
   ],
   "source": [
    "add= lambda x,y:x+y\n",
    "print(add(4,8))"
   ]
  },
  {
   "cell_type": "markdown",
   "id": "5758ab8e-23ff-426a-bacd-cb1b46940270",
   "metadata": {},
   "source": [
    "To get number is even or odd"
   ]
  },
  {
   "cell_type": "code",
   "execution_count": 2,
   "id": "a0b47aba-b34f-4b70-89b1-69621957ea3f",
   "metadata": {},
   "outputs": [
    {
     "name": "stdin",
     "output_type": "stream",
     "text": [
      "Give number to check number is even or odd : 5\n"
     ]
    },
    {
     "name": "stdout",
     "output_type": "stream",
     "text": [
      "odd\n"
     ]
    }
   ],
   "source": [
    "even_odd=lambda x: \"enen\" if x%2==0 else \"odd\"\n",
    "value=int(input(\"Give number to check number is even or odd :\"))\n",
    "print(even_odd(value))"
   ]
  },
  {
   "cell_type": "markdown",
   "id": "c75232b7-4fcc-4b34-b36b-531a31d01f62",
   "metadata": {},
   "source": [
    "To check, which number is big and which is samll"
   ]
  },
  {
   "cell_type": "code",
   "execution_count": 3,
   "id": "c8eb342c-d059-422e-ab5a-128f5a26a1b6",
   "metadata": {},
   "outputs": [
    {
     "name": "stdin",
     "output_type": "stream",
     "text": [
      "Give first number : 9\n",
      "Give second number : 7\n"
     ]
    },
    {
     "name": "stdout",
     "output_type": "stream",
     "text": [
      "Big digit is 9\n"
     ]
    }
   ],
   "source": [
    "check_number = lambda x,y : x if x>y else y\n",
    "num1=int(input(\"Give first number :\"))\n",
    "num2=int(input(\"Give second number :\"))\n",
    "print(f\"Big digit is {check_number(num1,num2)}\")"
   ]
  },
  {
   "cell_type": "code",
   "execution_count": 4,
   "id": "36902787-bc04-4687-8cd4-2f765ebeea0a",
   "metadata": {},
   "outputs": [
    {
     "name": "stdout",
     "output_type": "stream",
     "text": [
      "[1, 4, 9, 16, 25, 36]\n"
     ]
    }
   ],
   "source": [
    "list_square=lambda x:[i**2 for i in x]\n",
    "print(list_square([1,2,3,4,5,6]))\n"
   ]
  },
  {
   "cell_type": "markdown",
   "id": "de8f471f-b3e5-4149-a9b8-fbcb44eb0821",
   "metadata": {},
   "source": [
    "Lambda function are specially useful when we want to define a samll function to pass an aegument to another function. They are often used with funcrion like [map(), filter(), reduce(), sorted()]"
   ]
  },
  {
   "cell_type": "markdown",
   "id": "95c60ee8-dcc7-4847-a646-49b89554a135",
   "metadata": {},
   "source": [
    "### map() function\n",
    "map() function returns a map object (which is an iterator) of the result after applying the given function to each item of a given iterable like List, Tuple, Set etc."
   ]
  },
  {
   "cell_type": "code",
   "execution_count": 5,
   "id": "f157c3f5-a822-48fe-a1a8-6b6bd10bbec5",
   "metadata": {},
   "outputs": [
    {
     "name": "stdout",
     "output_type": "stream",
     "text": [
      "[8, 8, 8, 7]\n"
     ]
    }
   ],
   "source": [
    "def add(x,y):\n",
    "    z = x + y\n",
    "    return(z)\n",
    "list1=[1,2,3,4]\n",
    "list2=[7,6,5,3]\n",
    "a=list(map(add,list1,list2))\n",
    "print(a)"
   ]
  },
  {
   "cell_type": "code",
   "execution_count": 8,
   "id": "1c23a247-1cb2-4731-bf0e-fddc402f446a",
   "metadata": {},
   "outputs": [
    {
     "name": "stdout",
     "output_type": "stream",
     "text": [
      "[8, 8, 8, 7]\n"
     ]
    }
   ],
   "source": [
    "# With lambda function\n",
    "b=list(map(lambda x,y:x+y,list1,list2))\n",
    "print(b)"
   ]
  },
  {
   "cell_type": "markdown",
   "id": "a2180350-69d3-4104-a51c-438f4240cff7",
   "metadata": {},
   "source": [
    "### sorted() function\n"
   ]
  },
  {
   "cell_type": "code",
   "execution_count": 11,
   "id": "aa4dbdeb-2a10-46b0-b8e0-44359ac614d1",
   "metadata": {},
   "outputs": [
    {
     "name": "stdout",
     "output_type": "stream",
     "text": [
      "{'name': 'product1', 'price': 2000}\n",
      "{'name': 'product2', 'price': 3000}\n",
      "{'name': 'product3', 'price': 5000}\n"
     ]
    }
   ],
   "source": [
    "products=[{\"name\":\"product1\",\"price\":2000},\n",
    "{\"name\":\"product2\",\"price\":3000},\n",
    "{\"name\":\"product3\",\"price\":5000}]\n",
    "\n",
    "sorted_product=sorted(products,key=lambda x:x[\"price\"])\n",
    "for product in sorted_product:\n",
    "    print(product)"
   ]
  },
  {
   "cell_type": "markdown",
   "id": "c98d3e94-4fb9-48b2-a600-af9999b6f4af",
   "metadata": {},
   "source": [
    "### Name sorting base on last name "
   ]
  },
  {
   "cell_type": "code",
   "execution_count": 22,
   "id": "24df41fd-effa-4fa3-a89b-fc77e01446be",
   "metadata": {},
   "outputs": [
    {
     "name": "stdout",
     "output_type": "stream",
     "text": [
      "Without sorting \n",
      " ['Joe Toe', 'Mamu Loi', 'Sem Laran', 'Robin Singh']\n",
      "With sorting\n",
      " ['Sem Laran', 'Mamu Loi', 'Robin Singh', 'Joe Toe']\n"
     ]
    }
   ],
   "source": [
    "name=[\"Joe Toe\",\"Mamu Loi\", \"Sem Laran\", \"Robin Singh\"]\n",
    "print(\"Without sorting \\n\",name)\n",
    "name=sorted(name,key=lambda name:name.split(\" \")[1])\n",
    "#name.sort(key=lambda name:name.split(\" \")[1])   This is also working perfectly\n",
    "print(\"With sorting\\n\",name)"
   ]
  },
  {
   "cell_type": "markdown",
   "id": "f8295b52-2f90-4991-a0a5-6deed98bc9b0",
   "metadata": {},
   "source": [
    "### filter() function\n",
    "The filter Function filter a sequence of element based on a given predicate (A function that returna  boolean value) and returns a new sequence conatining only the elements that meet the predicate. The filter() function has the following syntax : list(filter(predicate/function,iterable/list))"
   ]
  },
  {
   "cell_type": "code",
   "execution_count": 20,
   "id": "648cef6a-49fd-4028-b1a8-01c6291b17dc",
   "metadata": {},
   "outputs": [
    {
     "name": "stdout",
     "output_type": "stream",
     "text": [
      "[5, 15, 65, 35, 645, 745]\n"
     ]
    }
   ],
   "source": [
    "my_list=[1,5,7,15,65,67,35,534,5353,645,746,745]\n",
    "result=list(filter(lambda x: x%5==0,my_list))\n",
    "print(result)"
   ]
  },
  {
   "cell_type": "markdown",
   "id": "61022697-6f0a-4a45-97cb-f684396b4bac",
   "metadata": {},
   "source": [
    "### reduce() function\n",
    "The reduce() function applies on itrable collection and returns the reduced (based on applied calculation through the function) value."
   ]
  },
  {
   "cell_type": "code",
   "execution_count": 4,
   "id": "60dd72e3-95fa-4c47-a6fa-4eef9df5f3e0",
   "metadata": {},
   "outputs": [
    {
     "name": "stdout",
     "output_type": "stream",
     "text": [
      "143\n"
     ]
    }
   ],
   "source": [
    "from functools import reduce\n",
    "fibo=[0,1,1,2,3,5,8,13,21,34,55]\n",
    "s=reduce(lambda x,y:x+y,fibo)\n",
    "print(s)"
   ]
  },
  {
   "cell_type": "code",
   "execution_count": null,
   "id": "306e2bee-b07c-4575-8fcc-35d217ac7f64",
   "metadata": {},
   "outputs": [],
   "source": []
  }
 ],
 "metadata": {
  "kernelspec": {
   "display_name": "Python 3 (ipykernel)",
   "language": "python",
   "name": "python3"
  },
  "language_info": {
   "codemirror_mode": {
    "name": "ipython",
    "version": 3
   },
   "file_extension": ".py",
   "mimetype": "text/x-python",
   "name": "python",
   "nbconvert_exporter": "python",
   "pygments_lexer": "ipython3",
   "version": "3.10.6"
  }
 },
 "nbformat": 4,
 "nbformat_minor": 5
}
