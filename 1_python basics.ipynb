{
 "cells": [
  {
   "cell_type": "markdown",
   "id": "f1498fe6-ade6-40e8-9967-530918bc89d8",
   "metadata": {},
   "source": [
    "# Keywords"
   ]
  },
  {
   "cell_type": "markdown",
   "id": "08cf63ea-e6d4-4d5e-a862-40967ad8e5e5",
   "metadata": {},
   "source": [
    "definition: Keywords are reserved words which basically used as identifiers and have specific meaning and use case in python programming."
   ]
  },
  {
   "cell_type": "markdown",
   "id": "0a04d275-392b-4bfe-95f0-7c8df4acfd41",
   "metadata": {},
   "source": [
    "keywords are generally immutable means heir general meaning can not be changed."
   ]
  },
  {
   "cell_type": "code",
   "execution_count": 1,
   "id": "cffec625-65a9-457a-bbfa-aba487b591b5",
   "metadata": {},
   "outputs": [
    {
     "name": "stdout",
     "output_type": "stream",
     "text": [
      "Total number of keywords in python is 35\n",
      "\n",
      "Here is a list of the Python keywords.  Enter any keyword to get more help.\n",
      "\n",
      "False               class               from                or\n",
      "None                continue            global              pass\n",
      "True                def                 if                  raise\n",
      "and                 del                 import              return\n",
      "as                  elif                in                  try\n",
      "assert              else                is                  while\n",
      "async               except              lambda              with\n",
      "await               finally             nonlocal            yield\n",
      "break               for                 not                 \n",
      "\n",
      "None\n"
     ]
    }
   ],
   "source": [
    "# keywords in python language\n",
    "import keyword\n",
    "list1=keyword.kwlist\n",
    "print(f\"Total number of keywords in python is {len(list1)}\")\n",
    "print(help(\"keywords\"))"
   ]
  },
  {
   "cell_type": "markdown",
   "id": "d622dcde-3821-4de7-8aaf-9b7fd26ccb39",
   "metadata": {
    "tags": []
   },
   "source": [
    "### Note: python is  case sensitive language means word \"None\" and \"none\" are diffrent."
   ]
  },
  {
   "cell_type": "markdown",
   "id": "f8e8cd84-1892-4546-aff0-36888e968f30",
   "metadata": {},
   "source": [
    "# Identifiers\n",
    "An identifier is a name given to entity like class, function, variable etc. It helps to diffrentiate one entity from other.\n",
    "### to define identifiers, we need to follow some rules:\n",
    "1. keywords can not be used as identifiers.\n",
    "2. identifiers can not start with a digit, but they can contain digits after the first character.\n",
    "3. Use underscore( _ ) in identifiers to improve readabilty.\n",
    "4. Avoid space while defining any identifiers and instead of using space we can use underscores for more good readabilty.\n",
    "5. Spacial characters are not acceptable in indentifiers like- !,#,$,% etc.\n"
   ]
  },
  {
   "cell_type": "markdown",
   "id": "ba247413-66c6-4fdd-a88e-c7fcbf985e51",
   "metadata": {},
   "source": [
    "# Comments\n",
    "A comment in python is a piece of text in our code thar is not excuted. it's typically used to explain what the code is doing or leave notes for developers who will be reading or maintaining the code.\n",
    "## There are the ways to give comments in our python programming.\n",
    "1. Single line comments -> # (Statements)\n",
    "2. Multiline comments -> ''' (Statements) '''  OR \"\"\" (Statements) \"\"\"\n",
    "3. Docstring / Documentation strings -> \n",
    "Docstrings are a type of comments used to explain the purpose of a fucntion or class. They are created using triple quotes(\"\"\") and are placed immediately after the defination od function. DOcstrings can span multiple lines and accessible at runtime using syntax \"Function_name/Calss_name.__doc__\" where __doc__ is attribute to access he docstring given in fuction or class."
   ]
  },
  {
   "cell_type": "code",
   "execution_count": 2,
   "id": "766f9834-fe1f-4ebc-a59c-41c80d8d4ca8",
   "metadata": {},
   "outputs": [
    {
     "name": "stdout",
     "output_type": "stream",
     "text": [
      " Define function is going to add two numbers a and b \n",
      " Addition of two nuber is \t 14\n"
     ]
    }
   ],
   "source": [
    "# Example of Docstrings\n",
    "def ADD(a,b):\n",
    "    \"\"\" Define function is going to add two numbers a and b\"\"\"\n",
    "    c=a+b\n",
    "    return(c)\n",
    "print(ADD.__doc__,\"\\n\",\"Addition of two nuber is \\t\",ADD(5,9))"
   ]
  },
  {
   "cell_type": "markdown",
   "id": "ec23b58a-9acf-409c-aa41-fb1dcd7cb215",
   "metadata": {},
   "source": [
    "# Indetation\n",
    "It is not just for readability. It's a part of syntax and is used ti indicate a block of code and in pythonit is used to define the scope of loops, functions, Classes etc. "
   ]
  },
  {
   "cell_type": "markdown",
   "id": "f8df8ca4-5c8d-442b-a2e3-39b092a81e0c",
   "metadata": {},
   "source": [
    "# Variables \n",
    "Variable is a named location used to store data in memory. Variables are declared by writing the variable names and assingning it a value the equals sign(=)."
   ]
  },
  {
   "cell_type": "markdown",
   "id": "a87bee06-efed-42e5-a197-94535ca1caf0",
   "metadata": {},
   "source": [
    "### Note : Python is a dyanamically typed , which means that we not have to declare the type of a variable when we create a variable or assingn its value."
   ]
  },
  {
   "cell_type": "markdown",
   "id": "d991fac1-631c-4b16-842e-38df7a2fa910",
   "metadata": {},
   "source": [
    "# operators \n",
    "### Airthmatic operators : Used to perform mathematical operations Like +, -, *, /, //, %, ** :\n",
    "### Assignment Operators : Used to assign values to variables Like =, +=, -=, *=, /= :\n",
    "### Comparison operators : Used to compare two values Like ==, !=, >, <, >=, <= :\n",
    "### Logical operators : Used to combine conditional statements Like and, or, not, XOR :\n",
    "### Bitwise operators : Used to perform bitwise calculations on integers."
   ]
  },
  {
   "cell_type": "markdown",
   "id": "977ae908-e5b9-4fd5-9e29-5488d5cd4b33",
   "metadata": {
    "tags": []
   },
   "source": [
    "# Note:\n",
    "### XOR Operator (^): Compares each bit of the first operand with corresponding bit of the second operand. If one of the bits is 1 (But not both), the corresponding result bit is set to 1. Otherwise, the result bit is set to 0. \n",
    "### Right Shift Operators >>(Mostly work on Bits): Shifts the bits of the number to the right by the number of bits specified. Each shift to the right corresponds to dividing the number by 2 and yntax will be like is \n",
    "##### a = 10 # 10= 1010\n",
    "##### shift = a>>2 # shift by 2 bits. \n",
    "##### print(shift) # output : 2\n",
    "### Left shift operaotor <<(Mostly works on Bits): Shifts the bits number to the left by the number of the bits specified. Each shift to the left corresponds to multiplying the number ny 2.\n",
    "##### a=10\n",
    "##### result = a<<2 # shift by 2 bits.\n",
    "##### print(result) # output : 40\n",
    "<p><span style=\"color: #ff0000;\"> Note : Bitwise operators are only applicable to integers,"
   ]
  },
  {
   "cell_type": "markdown",
   "id": "23d62152-ba09-45bc-aee7-d911af6ce624",
   "metadata": {},
   "source": [
    "### membership Operators : Used to test whether a value or variable os found in a sequence(string, list, tuple, set dictionary etc.)\n",
    "#### list = [1,2,3,4,5]\n",
    "#### print(1 in list) # Output ; True\n",
    "#### print(6 in list) # Output : True"
   ]
  },
  {
   "cell_type": "markdown",
   "id": "5fd226ee-62fa-4a51-9ce8-e16258add812",
   "metadata": {},
   "source": [
    "### Identity operators : Used to compare the objects, not of they are equal, nut if they are actually the same object, with the same memory location."
   ]
  },
  {
   "cell_type": "markdown",
   "id": "bcb8367d-69e3-4e1d-9952-1ba2c29e6a2d",
   "metadata": {},
   "source": [
    "# Data types in Python\n",
    "### Integers, Float, String\n",
    "### Strings ; Collection of characters is strings \n",
    "#### we can perform multiple operations on strings with the help of methods they are such as :\n",
    "1. string.strip(Character) : The strip() method removes any leading (spaces at the begining) and tralling (space at the end) charcters (space is the default leading charcter to remove) where character is optional as a set of charcters to remove as leading/tralling charcters.\n",
    "2. string.rstrip(Character) :Returns a copy of the string with any of the trallingcharcters spacified by (chars) removed. If (chars) is omiited, any tralling whitespaces is removed. (Only removes starting trailling characters only removed end ones trailling characters ).\n",
    "3. string.split(seprator,maxsplit) : The split() method split a string into a list, we can spacify the separator, default separator is any whitespace. : separator - Optional (spacify the separator to use when spliting the string by default any white space is a separators) : maxsplit - optional (spacifies how manysplits to do default value is -1, qhich is \"all occurrences\")\n",
    "4. string.replace(\"to remove\", \"to be replaced\") : Replace() method is used to replace any charcter in given string.\n",
    "5. string.upper() : To convert all words in capital latters.\n",
    "6. string.lower() : To convert all words in lower case in given string.\n",
    "7. string.capitalize() : This method turns only the first harcter of the string to upper and the rest other charcters of the string are turned to lower case.\n",
    "8. string.count() : The count() method returns the number of times the given value has occured within the given string.\n",
    "9. string.find() : The find() method searches for the first occurence of the given value and returns the index where it is present. if given value is absent from the string it returns -1.\n",
    "10. string.index() : The index() method searches for the first occurence of the given value and returns the index where it is present. if given value is absent from the string it returns -1.\n",
    "11. string.swapcase() : The swapcase() method changes the character casing of the string. Upper cases are converted to lower case and vise versa.\n",
    "12. string.title() : The title method capatilize each latter of the word within the string."
   ]
  },
  {
   "cell_type": "markdown",
   "id": "efaf52ea-a813-418f-a49d-e2981f250c1c",
   "metadata": {
    "tags": []
   },
   "source": [
    "### List \"[]\" : A list is orered collection of items and lists are simillar to array but can contain multiple types of items. Lists are mutable means lists can modified after giving their definations.\n",
    "#### we can perform multiple operations on lists with the help of methods they are such as :\n",
    "1. List.sort() : This method sets the list in ascending order and its actually modifing original list and we can also get reverse order by using \"reverse\" attribute and syntax will be like \"List.sort(reverse=True)\":\n",
    "2. List.sorted() : Gives other sorted list not modiying original list.\n",
    "3. List.reverse() : This method reverses the order of list\n",
    "4. List.index(value) : This method returns the index of the first occurence of the items.\n",
    "5. List.count() : Returns the count of the number of items with given value.\n",
    "6. List.insert(index, item) : This method insert an item at the given index. User has to specified index and the item to be inserted within the insert() method.\n",
    "7. List.copy() : Returns copy of the list. This can be done to perform operations on the list without modifing the original list.\n",
    "8. List.pop(index) : To remove item in list at specified index and in the empty case it will remove item from end of the list.\n",
    "9. List.clear() : The clear method clear complete list but list still remain in computer memory.\n",
    "10. del list : To delete list completely from computer storage.\n",
    "11. Join method : K = \"sign/space\".join(list) will give a string like structure with specified sign/space.(to convert list to string)\n",
    "12. List.extend(list/set/tuple/dictionary) : This method add an entire list or any other collection of data type (set, tuple, list, dictionary) to the existing list. \n",
    "<p><span style=\"color: #ff0000;\"> We can also perfrom this operation via K = L + M but it is only applicable when L and M both are list and this method not modify original list but extend method is actually modifying original list.  "
   ]
  },
  {
   "cell_type": "markdown",
   "id": "1fff0dae-3e1a-4c85-94b6-0fa3051ed6e4",
   "metadata": {},
   "source": [
    "### Tuple \"()\" : A tuple is ordered collection of items and same as list but diffrence is tuple is unmutable and can't be modified. We can add 2 tuples and can make 3rd tuple."
   ]
  },
  {
   "cell_type": "markdown",
   "id": "b00a3dfc-08c7-4e91-938b-c42752dded16",
   "metadata": {},
   "source": [
    "### Dictionary \"{}\" : Dictionaries are orderd collection of data items. They store multiple items in a single variable. Dictionary items are key-value pairs that are separated by commasand enclosed within curly brackets {}.\n",
    "#### we can perform multiple operations on dictionaries with the help of methods, they are such as :\n",
    "1. Dict.keys() : To get all keys from dictionary.\n",
    "2. Dict.values() : To get all values from dictionary.\n",
    "3. Dict.update(): The update() method updates the value of the key rovide to it if the item already exist in the dictionary \\, else it creates a new key value pair. syntax : Dict.update({\"salary\":10000})\n",
    "4. Dict.clear() : The clear() method removes all items from the dictionary.\n",
    "5. Dict.pop() : The pop() removes the key - values pair whose key is passed as a parameter.\n",
    "6. Dict.popitem() : The popitem() method remove the last key value pair from the dictionary.\n",
    "7. del Dict : we can also use the del keyword to remove a dictionary item.\n",
    "\n"
   ]
  },
  {
   "cell_type": "markdown",
   "id": "7566efb4-a717-4b24-a4b9-c2e46fb79434",
   "metadata": {},
   "source": [
    "### SET \"{}\" : Sets are unordered collection of data tems. They store multiple items in single variabvle. set items are seperated by commas and enclosed with the curly brakets {}. Sets are inchangeble, meaning you can not change items of the set once created and sets do not contain duplicates items.\n",
    "#### we can perform multiple operations on Sets with the help of methods, they are such as :\n",
    "1. set1.union(set2) [A U B] : To join two sets in another set means original sets data is unmodified and a new set is generated via this operation.\n",
    "2. set1.update(set2) : To add set2 in set1 means original data of set1 is get modified with this operation.\n",
    "3. intersection() and intersection_update() \"A ∩ B\": The intersection() and intersection_update() methods prints only items that are simillar in both sets. The intersection() method return a new set whereas intersection_update() method updates into tyhe existing set from another set.\n",
    "4. symmetric_diffrence() and symmetric_diffrence_update() : Perform \"A U B - A ∩ B\" operation means it removes common values in both sets.\n",
    "5. diffrence() and diffrence_update() : Perform \"A-B\" Operations.\n",
    "6. isdisjoint() : Its check common values in two set and is they not have common elements they are known as disjoint sets and function give True Otherwise its give False.\n",
    "7. issuperset() : Method checks if all the items of a perticuar set are present in the original set. It returns True if all the items are present else it return False.\n"
   ]
  },
  {
   "cell_type": "markdown",
   "id": "f708a40a-789b-4248-af2e-3e15df2a0822",
   "metadata": {},
   "source": [
    "# Standerd Input and Output:\n",
    "### INPUT : Python provides the input() fucntion to read data from standerd input and Syntax : Input1 = input(Statement) and from this syntax whatever input we get its actually in string format.\n",
    "\n",
    "### OUTPUT : Python provides print() function to send data to standard output."
   ]
  },
  {
   "cell_type": "markdown",
   "id": "1455a468-3543-4fbb-a944-1fcac81741c0",
   "metadata": {},
   "source": [
    "### F-strings : It is also known as literal string inter polation. When e prefix the string with the letter \"f\", the string becomes the f-string itself. The f-string can be formatted in much same as the str format() method.The f-string offers a convinient way to embed python expression. Syntax : print(f\"My name is {name}\")"
   ]
  },
  {
   "cell_type": "markdown",
   "id": "b507193c-b719-4e89-b6da-543699476e4f",
   "metadata": {},
   "source": [
    "# Lambda Funtion\n",
    "A Lambda function is a small, anonymous function that can be defined a single line. It is also known as an \"anoymus function\" because it dosen't requir a formal name like a regular function. Lambda functions are typically used when you need a simple function for a short period of time and don't want to define a separate function using the 'def' keyword. Example :"
   ]
  },
  {
   "cell_type": "code",
   "execution_count": 3,
   "id": "41c64e3a-5456-40b7-b3a7-a23977a12c9f",
   "metadata": {},
   "outputs": [
    {
     "name": "stdout",
     "output_type": "stream",
     "text": [
      "12\n"
     ]
    }
   ],
   "source": [
    "add= lambda x,y:x+y\n",
    "print(add(4,8))"
   ]
  },
  {
   "cell_type": "markdown",
   "id": "b726ed7d-e5f3-4516-97cd-1dde83e8fae7",
   "metadata": {},
   "source": [
    "\n",
    "To get number is even or odd"
   ]
  },
  {
   "cell_type": "code",
   "execution_count": null,
   "id": "2f6a399a-a30c-4458-9920-43ae431318d1",
   "metadata": {},
   "outputs": [],
   "source": [
    "even_odd=lambda x: \"enen\" if x%2==0 else \"odd\"\n",
    "value=int(input(\"Give number to check number is even or odd :\"))\n",
    "print(even_odd(value))"
   ]
  },
  {
   "cell_type": "markdown",
   "id": "2b5ca7a3-0de2-4caa-bec3-fe20506a905b",
   "metadata": {},
   "source": [
    "To check, which number is big and which is samll "
   ]
  },
  {
   "cell_type": "code",
   "execution_count": null,
   "id": "2fe1b229-1a25-4677-9fd8-c10dc3b49934",
   "metadata": {},
   "outputs": [],
   "source": [
    "check_number = lambda x,y : x if x>y else y\n",
    "num1=int(input(\"Give first number :\"))\n",
    "num2=int(input(\"Give second number :\"))\n",
    "print(f\"Big digit is {check_number(num1,num2)}\")"
   ]
  },
  {
   "cell_type": "code",
   "execution_count": null,
   "id": "50943834-8c48-4c55-a21e-9436d8edd9d5",
   "metadata": {},
   "outputs": [],
   "source": [
    "list_square=lambda x:[i**2 for i in x]\n",
    "print(list_square([1,2,3,4,5,6]))\n"
   ]
  },
  {
   "cell_type": "markdown",
   "id": "f8ab2844-b7ff-4376-894c-6626ef9d230a",
   "metadata": {},
   "source": [
    "Lambda function are specially useful when we want to define a samll function to pass an aegument to another function. They are often used with funcrion like [map(), filter(), reduce(), sorted()]"
   ]
  },
  {
   "cell_type": "markdown",
   "id": "74fe6966-0492-4f67-a2b4-f1bf53f8dbc0",
   "metadata": {},
   "source": [
    "### map() function \n",
    "map() function returns a map object (which is an iterator) of the result after applying the given function to each item of a given iterable like List, Tuple, Set etc."
   ]
  },
  {
   "cell_type": "code",
   "execution_count": null,
   "id": "a651ef0b-30d7-478c-a91c-0ddbb5796750",
   "metadata": {},
   "outputs": [],
   "source": [
    "def add(x,y):\n",
    "    z = x + y\n",
    "    return(z)\n",
    "list1=[1,2,3,4]\n",
    "list2=[7,6,5,3]\n",
    "a=list(map(add,list1,list2))\n",
    "print(a)"
   ]
  },
  {
   "cell_type": "markdown",
   "id": "017a4b50-b4e2-4f7e-9c6f-6d680a3221fd",
   "metadata": {},
   "source": [
    "This error occure here because i have used \"list\" word to define any object."
   ]
  }
 ],
 "metadata": {
  "kernelspec": {
   "display_name": "Python 3 (ipykernel)",
   "language": "python",
   "name": "python3"
  },
  "language_info": {
   "codemirror_mode": {
    "name": "ipython",
    "version": 3
   },
   "file_extension": ".py",
   "mimetype": "text/x-python",
   "name": "python",
   "nbconvert_exporter": "python",
   "pygments_lexer": "ipython3",
   "version": "3.10.6"
  }
 },
 "nbformat": 4,
 "nbformat_minor": 5
}
