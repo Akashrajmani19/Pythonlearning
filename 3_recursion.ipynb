{
 "cells": [
  {
   "cell_type": "markdown",
   "id": "5da92e8d-f697-4bfa-ab27-dd4c2b5bbff8",
   "metadata": {},
   "source": [
    "### Recursion function\n",
    "Recusion is the process of defining something in terms of itself. In Python, we know that a function can call other function. it is even possible for the function to call itself. These types of construct are termed as recursion functions.\n",
    "1. Base case : To prevent inbounded recursion, every recursive function should have a base case, which is a condition under which it stops invoking itself.\n",
    "2. The execution context or state of each recursive call is diffrent. The current values of a function's parameters and variables are palced onto the call stack when it calls itself.\n",
    "3. Memory : Because recursive functions must retain stck frames for all recusive calls, they consume more memory then iterative versions.\n",
    "4. Efficiency: Because of the omplexity of maintaining the stack, recursive functions can be less efficient and can result in a stack result in a stack overflow for deep recusion.\n"
   ]
  },
  {
   "cell_type": "markdown",
   "id": "fa61c49d-fb9a-417d-a3d5-bd6333438e41",
   "metadata": {},
   "source": [
    "Recursive sum of the numbers\n"
   ]
  },
  {
   "cell_type": "code",
   "execution_count": 1,
   "id": "62e59cfe-28d4-4588-a02c-d675d71e6775",
   "metadata": {},
   "outputs": [
    {
     "name": "stdout",
     "output_type": "stream",
     "text": [
      "78\n"
     ]
    }
   ],
   "source": [
    "def recursive_sum(n):\n",
    "    # Base case\n",
    "    if n==1:\n",
    "        return 1\n",
    "    # Recursive case\n",
    "    else:\n",
    "        return n + recursive_sum(n-1)\n",
    "\n",
    "print(recursive_sum(12)) # 12+11+10+9+8+7+6+5+4+3+2+1"
   ]
  },
  {
   "cell_type": "markdown",
   "id": "ae00f9ca-bdfe-4b70-9d15-f08aefbedd13",
   "metadata": {},
   "source": [
    "Factorial calculations"
   ]
  },
  {
   "cell_type": "code",
   "execution_count": 2,
   "id": "e8ebda8b-255f-48fe-b0e9-3859a662f5e1",
   "metadata": {},
   "outputs": [
    {
     "name": "stdout",
     "output_type": "stream",
     "text": [
      "120\n"
     ]
    }
   ],
   "source": [
    "def factorial_num(n):\n",
    "    # Base case \n",
    "    if n==1:\n",
    "        return(1)\n",
    "    # Recursive case : n!=n*(n-1)!\n",
    "    else:\n",
    "        return n*factorial_num(n-1)\n",
    "print(factorial_num(5))\n",
    "    "
   ]
  },
  {
   "cell_type": "code",
   "execution_count": 8,
   "id": "6022a8c0-effe-4d9d-859a-f9254aaa9eed",
   "metadata": {},
   "outputs": [
    {
     "name": "stdout",
     "output_type": "stream",
     "text": [
      "[0, 1, 1, 2, 3]\n"
     ]
    }
   ],
   "source": [
    "def fibonacci(n):\n",
    "    # Base case \n",
    "    if n==0:\n",
    "        return []\n",
    "    elif n==1:\n",
    "        return ([0])\n",
    "    elif n==2:\n",
    "        return ([0,1])\n",
    "    # Recursive case\n",
    "    else:\n",
    "        fibonacci_series=fibonacci(n-1)\n",
    "        next_term=fibonacci_series[-1]+fibonacci_series[-2]\n",
    "        #print(next_term)\n",
    "        fibonacci_series.append(next_term)\n",
    "        return fibonacci_series\n",
    "print(fibonacci(5))\n",
    "    "
   ]
  },
  {
   "cell_type": "code",
   "execution_count": null,
   "id": "4119c404-70af-420e-a7fb-0287046c8458",
   "metadata": {},
   "outputs": [],
   "source": []
  }
 ],
 "metadata": {
  "kernelspec": {
   "display_name": "Python 3 (ipykernel)",
   "language": "python",
   "name": "python3"
  },
  "language_info": {
   "codemirror_mode": {
    "name": "ipython",
    "version": 3
   },
   "file_extension": ".py",
   "mimetype": "text/x-python",
   "name": "python",
   "nbconvert_exporter": "python",
   "pygments_lexer": "ipython3",
   "version": "3.10.6"
  }
 },
 "nbformat": 4,
 "nbformat_minor": 5
}
